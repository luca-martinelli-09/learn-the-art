{
 "cells": [
  {
   "cell_type": "markdown",
   "metadata": {},
   "source": [
    "# Adversarial samples generator\n",
    "Generate the adversarial samples to test the models\n",
    "\n",
    "**Authors**\n",
    "\n",
    "`Marco Alecci <https://github.com/MarcoAlecci>`\n",
    "\n",
    "`Francesco Marchiori <https://github.com/FrancescoMarchiori>`\n",
    "\n",
    "`Luca Martinelli <https://github.com/luca-martinelli-09>`"
   ]
  },
  {
   "cell_type": "markdown",
   "metadata": {},
   "source": [
    "[![Open In Colab](https://colab.research.google.com/assets/colab-badge.svg)](https://colab.research.google.com/github/luca-martinelli-09/learn-the-art/blob/main/adversarialSamplesGenerator.ipynb)"
   ]
  },
  {
   "cell_type": "markdown",
   "metadata": {},
   "source": [
    "## General Setup"
   ]
  },
  {
   "cell_type": "code",
   "execution_count": null,
   "metadata": {},
   "outputs": [],
   "source": [
    "import os\n",
    "\n",
    "if not os.path.exists(\"./datasets\"):\n",
    "    !git clone \"https://github.com/luca-martinelli-09/learn-the-art.git\"\n",
    "\n",
    "    %cd learn-the-art/"
   ]
  },
  {
   "cell_type": "code",
   "execution_count": null,
   "metadata": {},
   "outputs": [],
   "source": [
    "import sys\n",
    "IN_COLAB = 'google.colab' in sys.modules\n",
    "\n",
    "datasetToFolder = {\"ddg\": \"ddg\", \"bing\": \"bing\", \"google\": \"google\"}\n",
    "googleModelsDir = None\n",
    "\n",
    "if IN_COLAB:\n",
    "  !pip install torchattacks\n",
    "\n",
    "  from google.colab import drive\n",
    "  drive.mount('/content/drive')\n",
    "\n",
    "  googleModelsDir = \"/content/drive/MyDrive/Università/Magistrale/II Anno/I Semestre/Advanced Topics in Computer and Network Security/Project/Models\"\n",
    "  \n",
    "  datasetToFolder = {\"ddg\": \"DuckDuckGo\", \"bing\": \"Bing\", \"google\": \"Google\"}"
   ]
  },
  {
   "cell_type": "code",
   "execution_count": null,
   "metadata": {},
   "outputs": [],
   "source": [
    "import os\n",
    "import time\n",
    "import torch\n",
    "import torchvision\n",
    "import numpy as np\n",
    "import torchvision\n",
    "from torchvision import transforms\n",
    "from torch.utils.data import DataLoader\n",
    "from PIL import Image\n",
    "\n",
    "from torchattacks import FGSM, CW, FAB, DIFGSM, DeepFool\n",
    "\n",
    "from nonMathAttacks import NonMathAttacks\n",
    "\n",
    "from imageLimitedDataset import ImageLimitedDataset\n",
    "\n",
    "print(\"PyTorch Version:\", torch.__version__)\n",
    "print(\"Torchvision Version:\", torchvision.__version__)"
   ]
  },
  {
   "cell_type": "code",
   "execution_count": null,
   "metadata": {},
   "outputs": [],
   "source": [
    "# Detect if we have a GPU available\n",
    "print(\"CUDA available:\", torch.cuda.is_available())\n",
    "device = torch.device(\"cuda:0\" if torch.cuda.is_available() else \"cpu\")"
   ]
  },
  {
   "cell_type": "markdown",
   "metadata": {},
   "source": [
    "## Settings"
   ]
  },
  {
   "cell_type": "code",
   "execution_count": null,
   "metadata": {},
   "outputs": [],
   "source": [
    "# @markdown Shuffle the dataset\n",
    "shuffleDataset = False  # @param {type: \"boolean\"}\n",
    "\n",
    "# @markdown Reduce the size of the dataset\n",
    "datasetSize = 100  # @param {type: \"integer\"}"
   ]
  },
  {
   "cell_type": "code",
   "execution_count": null,
   "metadata": {},
   "outputs": [],
   "source": [
    "# datasetsGenerateOnly = [\"google\"] # Use this if you want to select only one dataset from bing, ddg or google\n",
    "datasetsGenerateOnly = [\"google\"] # Use this if you want to get all the datasets\n",
    "\n",
    "# modelsGenerateOnly = [\"vgg\"] # Use this if you want to select only one model from alexnet, resnet or vgg, None if select all\n",
    "modelsGenerateOnly = [\"resnet\"] # Use this if you want to select all the models"
   ]
  },
  {
   "cell_type": "markdown",
   "metadata": {},
   "source": [
    "## Setup"
   ]
  },
  {
   "cell_type": "code",
   "execution_count": null,
   "metadata": {},
   "outputs": [],
   "source": [
    "nonMathAttacks = NonMathAttacks()"
   ]
  },
  {
   "cell_type": "code",
   "execution_count": null,
   "metadata": {},
   "outputs": [],
   "source": [
    "CAT_DOG = \"catDog\"\n",
    "MAN_WOMAN = \"manWoman\"\n",
    "BIKE_MOTORBIKE = \"bikeMotorbike\"\n",
    "\n",
    "adversarialDir = \"./adversarial_samples/\" + MAN_WOMAN\n",
    "datasetsDir = \"./datasets/\" + MAN_WOMAN\n",
    "modelsDir = googleModelsDir if googleModelsDir else \"./models/\" + MAN_WOMAN"
   ]
  },
  {
   "cell_type": "code",
   "execution_count": null,
   "metadata": {},
   "outputs": [],
   "source": [
    "SEED = 151836\n",
    "\n",
    "\n",
    "def setSeed(seed):\n",
    "    torch.manual_seed(seed)\n",
    "    torch.cuda.manual_seed(seed)\n",
    "    torch.cuda.manual_seed_all(seed)\n",
    "    np.random.seed(seed)\n",
    "\n",
    "\n",
    "setSeed(SEED)\n"
   ]
  },
  {
   "cell_type": "markdown",
   "metadata": {},
   "source": [
    "## Utils"
   ]
  },
  {
   "cell_type": "code",
   "execution_count": null,
   "metadata": {},
   "outputs": [],
   "source": [
    "def getSubDirs(dir):\n",
    "    return [x for x in os.listdir(dir) if os.path.isdir(os.path.join(dir, x))]"
   ]
  },
  {
   "cell_type": "code",
   "execution_count": null,
   "metadata": {},
   "outputs": [],
   "source": [
    "def getClassPercents(sizes):\n",
    "    totalSize = np.sum(np.array(sizes))\n",
    "    percents = []\n",
    "    for size in sizes:\n",
    "        percents.append(int(round((size / totalSize) * 100)))\n",
    "\n",
    "    return percents\n"
   ]
  },
  {
   "cell_type": "code",
   "execution_count": null,
   "metadata": {},
   "outputs": [],
   "source": [
    "def saveMathAdversarials(dataloader, classes, fileNames, attack, saveDir, shuffled=False):\n",
    "\n",
    "    i = 0;\n",
    "    for images, labels in dataloader:\n",
    "        adversarials = attack(images, labels)\n",
    "\n",
    "        for adversarial, label in zip(adversarials, labels):\n",
    "            image = transforms.ToPILImage()(adversarial).convert(\"RGB\")\n",
    "            path = os.path.join(saveDir, classes[label])\n",
    "\n",
    "            if not os.path.exists(path):\n",
    "                os.makedirs(path)\n",
    "\n",
    "            imageName = i + \".jpg\" if shuffled else os.path.basename(fileNames[i][0])\n",
    "            image.save(os.path.join(path, imageName), \"JPEG\")\n",
    "\n",
    "            i += 1\n",
    "\n",
    "            if i % 20 == 0:\n",
    "                print(\"Sample #\", i)"
   ]
  },
  {
   "cell_type": "markdown",
   "metadata": {},
   "source": [
    "## Generate adversarials"
   ]
  },
  {
   "cell_type": "code",
   "execution_count": null,
   "metadata": {},
   "outputs": [],
   "source": [
    "timesEvaluations = []"
   ]
  },
  {
   "cell_type": "code",
   "execution_count": null,
   "metadata": {},
   "outputs": [],
   "source": [
    "attacks = {\n",
    "    \"GaussianNoise\": nonMathAttacks.gaussianNoise,\n",
    "    \"BoxBlur\": nonMathAttacks.boxBlur,\n",
    "    \"Sharpen\": nonMathAttacks.sharpen,\n",
    "    \"InvertColor\": nonMathAttacks.invertColor,\n",
    "    \"GreyScale\": nonMathAttacks.greyscale,\n",
    "    \"SplitMergeRGB\": nonMathAttacks.splitMergeRGB,\n",
    "    \"SaltPepper\": nonMathAttacks.saltAndPepper,\n",
    "    \"RandomBlackBox\": nonMathAttacks.randomBlackBox,\n",
    "}"
   ]
  },
  {
   "cell_type": "code",
   "execution_count": null,
   "metadata": {},
   "outputs": [],
   "source": [
    "datasetsToGenerate = getSubDirs(datasetsDir) if not datasetsGenerateOnly else datasetsGenerateOnly\n",
    "\n",
    "for dataset in datasetsToGenerate:\n",
    "    print(\"\\n\" + \"-\" * 15)\n",
    "    currentTime = time.time()\n",
    "    print(\"[🗃️ TEST DATASET] {}\".format(dataset))\n",
    "\n",
    "    datasetDir = os.path.join(datasetsDir, dataset)\n",
    "    testDir = os.path.join(datasetDir, \"test\")\n",
    "\n",
    "    datasetAdvDir = os.path.join(adversarialDir, dataset)\n",
    "    nonMathAttacksDir = os.path.join(datasetAdvDir, \"nonMath\")\n",
    "\n",
    "    if not os.path.exists(nonMathAttacksDir):\n",
    "        os.makedirs(nonMathAttacksDir)\n",
    "\n",
    "    testDataset = ImageLimitedDataset(testDir, use_cache=True, check_images=False)\n",
    "\n",
    "    for path, cls in testDataset.imgs:\n",
    "        clsName = testDataset.classes[cls]\n",
    "\n",
    "        imageName = os.path.basename(path)\n",
    "\n",
    "        image = Image.open(path).convert(\"RGB\")\n",
    "\n",
    "        for attack in attacks:\n",
    "            attacker = attacks[attack]\n",
    "            \n",
    "            attackDir = os.path.join(nonMathAttacksDir, attack)\n",
    "            saveDir = os.path.join(attackDir, clsName)\n",
    "\n",
    "            if not os.path.exists(saveDir):\n",
    "                os.makedirs(saveDir)\n",
    "\n",
    "            outImage = image.copy()\n",
    "            outImage = attacker(outImage)\n",
    "            outImage.save(os.path.join(saveDir, imageName), \"JPEG\")\n",
    "    \n",
    "    elapsedTime = time.time() - currentTime\n",
    "    print(\"Elapsed seconds:\", elapsedTime)\n",
    "    timesEvaluations.append({\n",
    "        \"dataset\": dataset,\n",
    "        \"math\": False,\n",
    "        \"attack\": None,\n",
    "        \"model\": None,\n",
    "        \"modelDataset\": None,\n",
    "        \"balancing\": None,\n",
    "        \"time\": elapsedTime,\n",
    "    })"
   ]
  },
  {
   "cell_type": "code",
   "execution_count": null,
   "metadata": {},
   "outputs": [],
   "source": [
    "datasetsToGenerate = getSubDirs(datasetsDir) if not datasetsGenerateOnly else datasetsGenerateOnly\n",
    "\n",
    "for dataset in datasetsToGenerate:\n",
    "    print(\"\\n\" + \"-\" * 15)\n",
    "    print(\"[🗃️ SOURCE DATASET] {}\".format(dataset))\n",
    "\n",
    "    datasetDir = os.path.join(datasetsDir, dataset)\n",
    "    testDir = os.path.join(datasetDir, \"test\")\n",
    "\n",
    "    datasetAdvDir = os.path.join(adversarialDir, dataset)\n",
    "    mathAttacksDir = os.path.join(datasetAdvDir, \"math\")\n",
    "\n",
    "    if not os.path.exists(mathAttacksDir):\n",
    "        os.makedirs(mathAttacksDir)\n",
    "\n",
    "    toTensor = transforms.Compose([transforms.ToTensor()])\n",
    "    testDataset = ImageLimitedDataset(\n",
    "        testDir, transform=toTensor, slices=[slice(0, datasetSize)], use_cache=False, check_images=False)\n",
    "\n",
    "    setSeed(SEED)\n",
    "    testDataLoader = DataLoader(\n",
    "        testDataset, batch_size=16, num_workers=0, shuffle=shuffleDataset)\n",
    "    \n",
    "    for root, _, fnames in sorted(os.walk(os.path.join(modelsDir, datasetToFolder[dataset]), followlinks=True)):\n",
    "        for fname in sorted(fnames):\n",
    "            path = os.path.join(root, fname)\n",
    "\n",
    "            try:\n",
    "                modelData = torch.load(path)\n",
    "            except:\n",
    "                continue\n",
    "\n",
    "            modelDataset = modelData[\"dataset\"]\n",
    "            modelName = modelData[\"model_name\"]\n",
    "\n",
    "            if not modelName in modelsGenerateOnly:\n",
    "                torch.cuda.empty_cache()\n",
    "                continue\n",
    "            \n",
    "            modelPercents = \"_\".join([str(x)\n",
    "                                      for x in getClassPercents(modelData[\"dataset_sizes\"])])\n",
    "            model = modelData[\"model\"].to(device)\n",
    "\n",
    "            attacks = {\n",
    "                \"FGSM\": FGSM(model, eps=8/255),\n",
    "                \"CW\": CW(model, c=1, lr=0.01, steps=100, kappa=0),\n",
    "                \"FAB\": FAB(model, eps=8/255, steps=100, n_classes=10, n_restarts=1, targeted=True),\n",
    "                \"DIFGSM\": DIFGSM(model, eps=8/255, alpha=2/255, steps=100, diversity_prob=0.5, resize_rate=0.9),\n",
    "                \"DeepFool\": DeepFool(model, steps=100),\n",
    "            }\n",
    "\n",
    "            for attack in attacks:\n",
    "                attacker = attacks[attack]\n",
    "\n",
    "                attackDir = os.path.join(\n",
    "                    mathAttacksDir, attack)\n",
    "                saveDir = os.path.join(\n",
    "                    attackDir, modelName + \"/\" + modelPercents)\n",
    "                \n",
    "                if not os.path.exists(saveDir):\n",
    "                    os.makedirs(saveDir)\n",
    "\n",
    "                currentTime = time.time()\n",
    "                print(\"[⚔️ ADVERSARIAL] {} - {} - {} {}\".format(\n",
    "                    attack,\n",
    "                    modelDataset,\n",
    "                    modelName,\n",
    "                    modelPercents\n",
    "                ))\n",
    "\n",
    "                setSeed(SEED)\n",
    "                saveMathAdversarials(testDataLoader, testDataset.classes,\n",
    "                                     testDataset.imgs, attacker, saveDir, shuffled=shuffleDataset)\n",
    "\n",
    "                elapsedTime = time.time() - currentTime\n",
    "                print(\"Elapsed seconds:\", elapsedTime)\n",
    "                timesEvaluations.append({\n",
    "                    \"dataset\": dataset,\n",
    "                    \"math\": True,\n",
    "                    \"attack\": attack,\n",
    "                    \"model\": modelName,\n",
    "                    \"modelDataset\": modelDataset,\n",
    "                    \"balancing\": modelPercents.replace(\"_\", \"/\"),\n",
    "                    \"time\": elapsedTime,\n",
    "                })\n",
    "\n",
    "                torch.cuda.empty_cache()"
   ]
  },
  {
   "cell_type": "code",
   "execution_count": null,
   "metadata": {},
   "outputs": [],
   "source": [
    "import pandas as pd\n",
    "\n",
    "timesEvaluationsDF = pd.DataFrame(timesEvaluations)"
   ]
  },
  {
   "cell_type": "code",
   "execution_count": null,
   "metadata": {},
   "outputs": [],
   "source": [
    "timesEvaluationsDF"
   ]
  },
  {
   "cell_type": "code",
   "execution_count": null,
   "metadata": {},
   "outputs": [],
   "source": [
    "timesEvaluationsDF.to_csv(\"timesEvaluations.csv\")"
   ]
  }
 ],
 "metadata": {
  "interpreter": {
   "hash": "63fd5069d213b44bf678585dea6b12cceca9941eaf7f819626cde1f2670de90d"
  },
  "kernelspec": {
   "display_name": "Python 3.9.7 64-bit (system)",
   "language": "python",
   "name": "python3"
  },
  "language_info": {
   "codemirror_mode": {
    "name": "ipython",
    "version": 3
   },
   "file_extension": ".py",
   "mimetype": "text/x-python",
   "name": "python",
   "nbconvert_exporter": "python",
   "pygments_lexer": "ipython3",
   "version": "3.9.7"
  },
  "orig_nbformat": 4
 },
 "nbformat": 4,
 "nbformat_minor": 2
}
