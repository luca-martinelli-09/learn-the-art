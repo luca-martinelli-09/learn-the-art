{
 "cells": [
  {
   "cell_type": "markdown",
   "metadata": {},
   "source": [
    "# Adversarial samples generator"
   ]
  },
  {
   "cell_type": "code",
   "execution_count": null,
   "metadata": {},
   "outputs": [],
   "source": [
    "import torch\n",
    "import torchvision\n",
    "import numpy as np\n",
    "import torchvision\n",
    "from torchvision import transforms\n",
    "from torch.utils.data import DataLoader\n",
    "import os\n",
    "from PIL import Image\n",
    "import time\n",
    "\n",
    "from torchattacks import FGSM, CW, FAB, OnePixel, DeepFool\n",
    "\n",
    "from nonMathAttacks import NonMathAttacks\n",
    "\n",
    "from imageLimitedDataset import ImageLimitedDataset\n",
    "\n",
    "print(\"PyTorch Version: \",torch.__version__)\n",
    "print(\"Torchvision Version: \",torchvision.__version__)"
   ]
  },
  {
   "cell_type": "code",
   "execution_count": null,
   "metadata": {},
   "outputs": [],
   "source": [
    "# Detect if we have a GPU available\n",
    "print(\"CUDA available:\", torch.cuda.is_available())\n",
    "device = torch.device(\"cuda:0\" if torch.cuda.is_available() else \"cpu\")"
   ]
  },
  {
   "cell_type": "code",
   "execution_count": null,
   "metadata": {},
   "outputs": [],
   "source": [
    "nonMathAttacks = NonMathAttacks()"
   ]
  },
  {
   "cell_type": "code",
   "execution_count": null,
   "metadata": {},
   "outputs": [],
   "source": [
    "adversarialDir = \"./adversarial_samples\"\n",
    "datasetsDir = \"./datasets\"\n",
    "modelsDir = \"./models\""
   ]
  },
  {
   "cell_type": "markdown",
   "metadata": {},
   "source": [
    "## Utils"
   ]
  },
  {
   "cell_type": "code",
   "execution_count": null,
   "metadata": {},
   "outputs": [],
   "source": [
    "def getSubDirs(dir):\n",
    "    return [x for x in os.listdir(dir) if os.path.isdir(os.path.join(dir, x))]"
   ]
  },
  {
   "cell_type": "code",
   "execution_count": null,
   "metadata": {},
   "outputs": [],
   "source": [
    "def getClassPercents(sizes):\n",
    "    totalSize = np.sum(np.array(sizes))\n",
    "    percents = []\n",
    "    for size in sizes:\n",
    "        percents.append(int(round((size / totalSize) * 100)))\n",
    "\n",
    "    return percents\n"
   ]
  },
  {
   "cell_type": "code",
   "execution_count": null,
   "metadata": {},
   "outputs": [],
   "source": [
    "def saveMathAdversarials(dataloader, classes, fileNames, attack, saveDir):\n",
    "\n",
    "    i = 0;\n",
    "    for images, labels in dataloader:\n",
    "        adversarials = attack(images, labels)\n",
    "\n",
    "        for adversarial, label in zip(adversarials, labels):\n",
    "            image = transforms.ToPILImage()(adversarial).convert(\"RGB\")\n",
    "            path = os.path.join(saveDir, classes[label])\n",
    "\n",
    "            if not os.path.exists(path):\n",
    "                os.makedirs(path)\n",
    "\n",
    "            imageName = os.path.basename(fileNames[i][0])\n",
    "            image.save(os.path.join(path, imageName), \"JPEG\")\n",
    "\n",
    "            i += 1"
   ]
  },
  {
   "cell_type": "markdown",
   "metadata": {},
   "source": [
    "## Generate adversarials"
   ]
  },
  {
   "cell_type": "code",
   "execution_count": null,
   "metadata": {},
   "outputs": [],
   "source": [
    "attacks = {\n",
    "    \"GaussianNoise\": nonMathAttacks.gaussianNoise,\n",
    "    \"BoxBlur\": nonMathAttacks.boxBlur,\n",
    "    \"Sharpen\": nonMathAttacks.sharpen,\n",
    "    \"InvertColor\": nonMathAttacks.invertColor,\n",
    "    \"GreyScale\": nonMathAttacks.greyscale,\n",
    "    \"SplitMergeRGB\": nonMathAttacks.splitMergeRGB,\n",
    "    \"RandomBlackBox\": nonMathAttacks.randomBlackBox,\n",
    "    \"SaltPepper\": nonMathAttacks.saltAndPepper,\n",
    "}"
   ]
  },
  {
   "cell_type": "code",
   "execution_count": null,
   "metadata": {},
   "outputs": [],
   "source": [
    "timesEvaluations = []\n",
    "\n",
    "for dataset in getSubDirs(datasetsDir):\n",
    "    print(\"\\n\" + \"-\" * 15)\n",
    "    currentTime = time.time()\n",
    "    print(\"[🗃️ TEST DATASET] {}\".format(dataset))\n",
    "\n",
    "    datasetDir = os.path.join(datasetsDir, dataset)\n",
    "    testDir = os.path.join(datasetDir, \"test\")\n",
    "\n",
    "    datasetAdvDir = os.path.join(adversarialDir, dataset)\n",
    "    nonMathAttacksDir = os.path.join(datasetAdvDir, \"nonMath\")\n",
    "\n",
    "    if not os.path.exists(nonMathAttacksDir):\n",
    "        os.makedirs(nonMathAttacksDir)\n",
    "\n",
    "    testDataset = ImageLimitedDataset(testDir, use_cache=True, check_images=False)\n",
    "\n",
    "    for path, cls in testDataset.imgs:\n",
    "        clsName = testDataset.classes[cls]\n",
    "\n",
    "        imageName = os.path.basename(path)\n",
    "\n",
    "        image = Image.open(path).convert(\"RGB\")\n",
    "\n",
    "        for attack in attacks:\n",
    "            attacker = attacks[attack]\n",
    "            \n",
    "            attackDir = os.path.join(nonMathAttacksDir, attack)\n",
    "            saveDir = os.path.join(attackDir, clsName)\n",
    "\n",
    "            if not os.path.exists(saveDir):\n",
    "                os.makedirs(saveDir)\n",
    "\n",
    "            outImage = attacker(image)\n",
    "            outImage.save(os.path.join(saveDir, imageName), \"JPEG\")\n",
    "    \n",
    "    timesEvaluations.append({\n",
    "        \"dataset\": dataset,\n",
    "        \"type\": \"nonMath\",\n",
    "        \"attack\": None,\n",
    "        \"model\": None,\n",
    "        \"modelDataset\": None,\n",
    "        \"balancing\": None,\n",
    "        \"time\": time.time() - currentTime,\n",
    "    })"
   ]
  },
  {
   "cell_type": "code",
   "execution_count": null,
   "metadata": {},
   "outputs": [],
   "source": [
    "for dataset in getSubDirs(datasetsDir):\n",
    "    print(\"\\n\" + \"-\" * 15)\n",
    "    print(\"[🗃️ TEST DATASET] {}\".format(dataset))\n",
    "\n",
    "    datasetDir = os.path.join(datasetsDir, dataset)\n",
    "    testDir = os.path.join(datasetDir, \"test\")\n",
    "\n",
    "    datasetAdvDir = os.path.join(adversarialDir, dataset)\n",
    "    mathAttacksDir = os.path.join(datasetAdvDir, \"math\")\n",
    "\n",
    "    if not os.path.exists(mathAttacksDir):\n",
    "        os.makedirs(mathAttacksDir)\n",
    "\n",
    "    toTensor = transforms.Compose([transforms.ToTensor()])\n",
    "    testDataset = ImageLimitedDataset(\n",
    "        testDir, transform=toTensor, use_cache=False, check_images=False)\n",
    "\n",
    "    testDataLoader = DataLoader(\n",
    "        testDataset, batch_size=16, num_workers=0)\n",
    "\n",
    "    for root, _, fnames in sorted(os.walk(os.path.join(modelsDir, dataset), followlinks=True)):\n",
    "        for fname in sorted(fnames):\n",
    "            path = os.path.join(root, fname)\n",
    "            modelData = torch.load(path)\n",
    "\n",
    "            modelDataset = modelData[\"dataset\"]\n",
    "            modelName = modelData[\"model_name\"]\n",
    "            modelPercents = \"_\".join([str(x)\n",
    "                                      for x in getClassPercents(modelData[\"dataset_sizes\"])])\n",
    "            model = modelData[\"model\"].to(device)\n",
    "\n",
    "            attacks = {\n",
    "                \"FGSM\": FGSM(model),\n",
    "                \"CW\": CW(model),\n",
    "                \"FAB\": FAB(model),\n",
    "                \"OnePixel\": OnePixel(model),\n",
    "                \"DeepFool\": DeepFool(model),\n",
    "            }\n",
    "\n",
    "            for attack in attacks:\n",
    "                attacker = attacks[attack]\n",
    "\n",
    "                attackDir = os.path.join(\n",
    "                    mathAttacksDir, attack)\n",
    "                saveDir = os.path.join(\n",
    "                    attackDir, modelName + \"/\" + modelPercents)\n",
    "                \n",
    "                if not os.path.exists(saveDir):\n",
    "                    os.makedirs(saveDir)\n",
    "\n",
    "                currentTime = time.time()\n",
    "                print(\"[⚔️ ADVERSARIAL] {} - {} - {} {}\".format(\n",
    "                    attack,\n",
    "                    modelDataset,\n",
    "                    modelName,\n",
    "                    modelPercents\n",
    "                ))\n",
    "\n",
    "                saveMathAdversarials(testDataLoader, testDataset.classes, testDataset.imgs, attacker, saveDir)\n",
    "\n",
    "                timesEvaluations.append({\n",
    "                    \"dataset\": dataset,\n",
    "                    \"type\": \"math\",\n",
    "                    \"attack\": attack,\n",
    "                    \"model\": modelName,\n",
    "                    \"modelDataset\": modelDataset,\n",
    "                    \"balancing\": modelPercents.replace(\"_\", \"/\"),\n",
    "                    \"time\": time.time() - currentTime,\n",
    "                })\n",
    "\n",
    "                torch.cuda.empty_cache()"
   ]
  },
  {
   "cell_type": "code",
   "execution_count": null,
   "metadata": {},
   "outputs": [],
   "source": [
    "import pandas as pd\n",
    "\n",
    "modelsEvalsDF = pd.DataFrame(timesEvaluations)\n"
   ]
  },
  {
   "cell_type": "code",
   "execution_count": null,
   "metadata": {},
   "outputs": [],
   "source": [
    "timesEvaluations"
   ]
  }
 ],
 "metadata": {
  "interpreter": {
   "hash": "63fd5069d213b44bf678585dea6b12cceca9941eaf7f819626cde1f2670de90d"
  },
  "kernelspec": {
   "display_name": "Python 3.9.7 64-bit (system)",
   "language": "python",
   "name": "python3"
  },
  "language_info": {
   "codemirror_mode": {
    "name": "ipython",
    "version": 3
   },
   "file_extension": ".py",
   "mimetype": "text/x-python",
   "name": "python",
   "nbconvert_exporter": "python",
   "pygments_lexer": "ipython3",
   "version": "3.9.7"
  },
  "orig_nbformat": 4
 },
 "nbformat": 4,
 "nbformat_minor": 2
}
