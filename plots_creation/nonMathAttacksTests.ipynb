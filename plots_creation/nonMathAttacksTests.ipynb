{
 "cells": [
  {
   "cell_type": "markdown",
   "metadata": {},
   "source": [
    "# Tests for non mathematical attacks"
   ]
  },
  {
   "cell_type": "code",
   "execution_count": null,
   "metadata": {},
   "outputs": [],
   "source": [
    "import torch\n",
    "import matplotlib.pyplot as plt\n",
    "from torch.utils.data import DataLoader\n",
    "import torchvision\n",
    "import numpy as np\n",
    "import random\n",
    "\n",
    "from PIL import Image\n",
    "\n",
    "print(\"PyTorch Version:\", torch.__version__)\n",
    "print(\"Torchvision Version:\", torchvision.__version__)"
   ]
  },
  {
   "cell_type": "code",
   "execution_count": null,
   "metadata": {},
   "outputs": [],
   "source": [
    "# Utils import\n",
    "\n",
    "import sys\n",
    "import os\n",
    "rootFolder = os.path.abspath(os.path.dirname(\n",
    "    os.path.dirname(os.path.abspath(__file__))))\n",
    "sys.path.append(rootFolder)\n",
    "\n",
    "from utils.tasks import *\n",
    "from utils.nonMathAttacks import NonMathAttacks"
   ]
  },
  {
   "cell_type": "code",
   "execution_count": null,
   "metadata": {},
   "outputs": [],
   "source": [
    "nonMathAttacks = NonMathAttacks()"
   ]
  },
  {
   "cell_type": "code",
   "execution_count": null,
   "metadata": {},
   "outputs": [],
   "source": [
    "SEED = 151836\n",
    "\n",
    "def setSeed(seed):\n",
    "    torch.manual_seed(seed)\n",
    "    torch.cuda.manual_seed(seed)\n",
    "    torch.cuda.manual_seed_all(seed)\n",
    "    np.random.seed(seed)\n",
    "    random.seed(seed)\n",
    "    nonMathAttacks.seed(seed)\n",
    "\n",
    "setSeed(SEED)"
   ]
  },
  {
   "cell_type": "code",
   "execution_count": null,
   "metadata": {},
   "outputs": [],
   "source": [
    "DATASET_PATH = \"../datasets/bing/test\""
   ]
  },
  {
   "cell_type": "code",
   "execution_count": null,
   "metadata": {},
   "outputs": [],
   "source": [
    "from torchvision.datasets import ImageFolder\n",
    "from torchvision import transforms\n",
    "\n",
    "toTensor = transforms.Compose([transforms.ToTensor()])\n",
    "testDataset = ImageFolder(DATASET_PATH, transform=toTensor)\n",
    "\n",
    "setSeed(SEED)\n",
    "testDataLoader = DataLoader(testDataset, batch_size=3, shuffle=True, num_workers=0, pin_memory=True)"
   ]
  },
  {
   "cell_type": "markdown",
   "metadata": {},
   "source": [
    "## Image tests"
   ]
  },
  {
   "cell_type": "code",
   "execution_count": null,
   "metadata": {},
   "outputs": [],
   "source": [
    "attacks = {\n",
    "    \"Gaussian Noise\": nonMathAttacks.gaussianNoise,\n",
    "    \"Box Blur\": nonMathAttacks.boxBlur,\n",
    "    \"Invert Color\": nonMathAttacks.invertColor,\n",
    "    \"Greyscale\": nonMathAttacks.greyscale,\n",
    "    \"Split & Merge RGB\": nonMathAttacks.splitMergeRGB,\n",
    "    \"Salt & Pepper\": nonMathAttacks.saltAndPepper,\n",
    "    \"Random Black Box\": nonMathAttacks.randomBlackBox,\n",
    "}"
   ]
  },
  {
   "cell_type": "code",
   "execution_count": null,
   "metadata": {},
   "outputs": [],
   "source": [
    "import math\n",
    "\n",
    "setSeed(SEED)\n",
    "\n",
    "for (images, labels), attack in zip(testDataLoader, attacks):\n",
    "    numImages = len(images)\n",
    "\n",
    "    imageFilter = attacks[attack]\n",
    "\n",
    "    rows = int(math.sqrt(numImages))\n",
    "    cols = math.ceil(numImages / rows)\n",
    "\n",
    "    fig, axs = plt.subplots(\n",
    "        rows * 2, cols, figsize=(4 * cols, 8 * rows + 1))\n",
    "\n",
    "    fig.suptitle(attack, fontsize=22)\n",
    "    \n",
    "    for row in range(rows):\n",
    "        for col in range(cols):\n",
    "            ax = axs[row][col]\n",
    "            axAttack = axs[rows + row][col]\n",
    "\n",
    "            img = images[col + row]\n",
    "            label = labels[col + row]\n",
    "\n",
    "            img = transforms.ToPILImage()(img).convert(\"RGB\")\n",
    "            labelName = testDataset.classes[label.numpy()]\n",
    "\n",
    "            ax.title.set_text(labelName + \" (original)\")\n",
    "            ax.imshow(img)\n",
    "\n",
    "            imgAttack = imageFilter(img)\n",
    "            axAttack.title.set_text(labelName)\n",
    "            axAttack.imshow(imgAttack)\n",
    "\n",
    "    fig.tight_layout()\n",
    "    fig.subplots_adjust(top=0.90, hspace=0.3)\n",
    "\n",
    "    plt.show()"
   ]
  },
  {
   "cell_type": "markdown",
   "metadata": {},
   "source": [
    "## Image for the paper"
   ]
  },
  {
   "cell_type": "code",
   "execution_count": null,
   "metadata": {},
   "outputs": [],
   "source": [
    "img = Image.open(\"../datasets/bing/test/cat/cat_4049.jpg\")\n",
    "imgOriginal = img.copy()\n",
    "\n",
    "ticksSize = 18\n",
    "padTitle = 23\n",
    "titleSize = 23\n",
    "\n",
    "plt.rc('xtick', labelsize=ticksSize)\n",
    "plt.rc('ytick', labelsize=ticksSize)\n",
    "\n",
    "cols = 4\n",
    "rows = math.ceil((1 + len(attacks)) / cols)\n",
    "\n",
    "fig, axs = plt.subplots(rows, cols, figsize=(4 * cols, 4 * rows + 1))\n",
    "\n",
    "ax = axs[0][0]\n",
    "ax.set_title(\"Original\", pad=padTitle, fontsize=titleSize)\n",
    "ax.imshow(imgOriginal)\n",
    "\n",
    "for attack, row in zip(attacks, range(len(attacks))):\n",
    "    row = row + 1\n",
    "    ax = axs[row // cols][row % cols]\n",
    "\n",
    "    imageFilter = attacks[attack]\n",
    "    imgAttack = imageFilter(img)\n",
    "\n",
    "    ax.set_title(attack, pad=padTitle, fontsize=titleSize)\n",
    "    ax.imshow(imgAttack)\n",
    "\n",
    "fig.tight_layout()\n",
    "\n",
    "plt.show()\n",
    "\n",
    "for fmt in [\"pdf\", \"png\"]:\n",
    "    fig.savefig(\"plots/{fmt}/catNonMathAttacks.{fmt}\".format(fmt=fmt),\n",
    "                facecolor=None,\n",
    "                dpi=500,\n",
    "                bbox_inches=\"tight\",\n",
    "                pad_inches=.3)\n"
   ]
  }
 ],
 "metadata": {
  "interpreter": {
   "hash": "63fd5069d213b44bf678585dea6b12cceca9941eaf7f819626cde1f2670de90d"
  },
  "kernelspec": {
   "display_name": "Python 3.9.7 64-bit (system)",
   "language": "python",
   "name": "python3"
  },
  "language_info": {
   "codemirror_mode": {
    "name": "ipython",
    "version": 3
   },
   "file_extension": ".py",
   "mimetype": "text/x-python",
   "name": "python",
   "nbconvert_exporter": "python",
   "pygments_lexer": "ipython3",
   "version": "3.9.7"
  },
  "orig_nbformat": 4
 },
 "nbformat": 4,
 "nbformat_minor": 2
}
