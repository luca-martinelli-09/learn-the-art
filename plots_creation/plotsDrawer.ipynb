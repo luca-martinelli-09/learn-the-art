{
 "cells": [
  {
   "cell_type": "markdown",
   "metadata": {},
   "source": [
    "## Draw plots needed for the paper"
   ]
  },
  {
   "cell_type": "code",
   "execution_count": null,
   "metadata": {},
   "outputs": [],
   "source": [
    "# Import required libraries\n",
    "import pandas as pd\n",
    "from plotUtils import PlotUtils\n",
    "import numpy as np\n",
    "import os\n",
    "from pathlib import Path"
   ]
  },
  {
   "cell_type": "code",
   "execution_count": null,
   "metadata": {},
   "outputs": [],
   "source": [
    "datasetToName = {\"ddg\": \"DuckDuckGo\", \"bing\": \"Bing\", \"google\": \"Google\"}\n",
    "modelToName = {\"resnet\": \"ResNet\", \"alexnet\": \"AlexNet\", \"vgg\": \"VGG\"}"
   ]
  },
  {
   "cell_type": "markdown",
   "metadata": {},
   "source": [
    "## Plot utilities"
   ]
  },
  {
   "cell_type": "code",
   "execution_count": null,
   "metadata": {},
   "outputs": [],
   "source": [
    "TITLE_PAD = 30\n",
    "TITLE_DIM = 30\n",
    "XY_LABEL_PAD = 23\n",
    "XY_LABEL_DIM = 21\n",
    "XY_TICKS_DIM = 18\n",
    "GRID_ALPHA = 0.2\n",
    "FILL_ALPHA = 0.05\n",
    "BAR_WIDTH = 0.5\n",
    "LEGEND_LOC = \"upper left\"\n",
    "LEGEND_LABEL_DIM = 15\n",
    "COLOR_SCHEME = [\"#91C483\", \"#FF6464\", \"#FFE162\", \"#C67ACE\"]\n",
    "\n",
    "FIG_SIZE = (18, 8)\n",
    "FIG_BG_COLOR = None # \"w\"\n",
    "FIG_DPI = 500\n",
    "FIG_BBOX = \"tight\"\n",
    "FIG_PAD = .3\n",
    "FIG_FORMATS = [\"png\", \"pdf\"]"
   ]
  },
  {
   "cell_type": "code",
   "execution_count": null,
   "metadata": {},
   "outputs": [],
   "source": [
    "plotter = PlotUtils(\n",
    "    options={\n",
    "        \"titlePad\": TITLE_PAD,\n",
    "        \"titleDim\": TITLE_DIM,\n",
    "        \"xyLabelPad\": XY_LABEL_PAD,\n",
    "        \"xyLabelDim\": XY_LABEL_DIM,\n",
    "        \"xyTicksDim\": XY_TICKS_DIM,\n",
    "        \"gridAlpha\": GRID_ALPHA,\n",
    "        \"fillAlpha\": FILL_ALPHA,\n",
    "        \"barWidth\": BAR_WIDTH,\n",
    "        \"legendLoc\": LEGEND_LOC,\n",
    "        \"legendLabelDim\": LEGEND_LABEL_DIM,\n",
    "        \"colorScheme\": COLOR_SCHEME,\n",
    "        \"figSize\": FIG_SIZE,\n",
    "        \"figBGColor\": FIG_BG_COLOR,\n",
    "        \"figDPI\": FIG_DPI,\n",
    "        \"figBBox\": FIG_BBOX,\n",
    "        \"figPad\": FIG_PAD,\n",
    "        \"figFormats\": FIG_FORMATS,\n",
    "    }\n",
    ")"
   ]
  },
  {
   "cell_type": "code",
   "execution_count": null,
   "metadata": {},
   "outputs": [],
   "source": [
    "# Get absolute path\n",
    "absPath = str(Path(os.path.abspath(os.getcwd())).absolute())\n",
    "SPLIT_MEASURES_AVG_PATH = os.path.join(absPath, \"SplitMeasuresAVG.csv\")\n",
    "SPLIT_MEASURES_ALL_PATH = os.path.join(absPath, \"SplitMeasuresALL.csv\")"
   ]
  },
  {
   "cell_type": "markdown",
   "metadata": {},
   "source": [
    "## Plots about transferabilty"
   ]
  },
  {
   "cell_type": "markdown",
   "metadata": {},
   "source": []
  },
  {
   "cell_type": "code",
   "execution_count": null,
   "metadata": {},
   "outputs": [],
   "source": [
    "avgResultDF = pd.read_csv(SPLIT_MEASURES_AVG_PATH)\n",
    "avgResultDF "
   ]
  },
  {
   "cell_type": "code",
   "execution_count": null,
   "metadata": {},
   "outputs": [],
   "source": [
    "sameSource = [0.9704, 0.9733, 0.9504]\n",
    "avgSources = [0.9734, 0.9714, 0.9517]\n",
    "\n",
    "plotter.plotResults(\n",
    "      x=np.arange(3),\n",
    "      yArr=[list(sameSource), list(avgSources)],\n",
    "      yLabel=\"F1-Score\",\n",
    "      xLabel=\"Training Set source\",\n",
    "      legend=[\"Test Set coming from the same source\", \"Average using all the Test Sets\"],\n",
    "      xTicks=list(['Bing', 'DuckDuckGo', 'Google']),\n",
    "      showGrid=True,\n",
    "      gridAxis=\"y\",\n",
    "      style=\"bar\",\n",
    "      saveTitle=\"ResNetAvg\",\n",
    "      yLim= [0.9,1],\n",
    "      title=\"ResNet\"\n",
    ")"
   ]
  },
  {
   "cell_type": "code",
   "execution_count": null,
   "metadata": {},
   "outputs": [],
   "source": [
    "allResultDF = pd.read_csv(SPLIT_MEASURES_ALL_PATH)\n",
    "allResultDF "
   ]
  },
  {
   "cell_type": "code",
   "execution_count": null,
   "metadata": {},
   "outputs": [],
   "source": [
    "modelOffset = 0\n",
    "\n",
    "bingTestSet =   [allResultDF.at[modelOffset,\"Bing\"]  ,allResultDF.at[12 + modelOffset,\"Bing\"]  ,allResultDF.at[24 + modelOffset,\"Bing\"]]\n",
    "ddgTestSet =    [allResultDF.at[modelOffset,\"DDG\"]   ,allResultDF.at[12 + modelOffset,\"DDG\"]   ,allResultDF.at[24 + modelOffset,\"DDG\"]]\n",
    "googleTestSet = [allResultDF.at[modelOffset,\"Google\"],allResultDF.at[12 + modelOffset,\"Google\"],allResultDF.at[24 + modelOffset,\"Google\"]]\n",
    "\n",
    "plotter.plotResults(\n",
    "      x=np.arange(3),\n",
    "      yArr=[list(bingTestSet), list(ddgTestSet), list(ddgTestSet)],\n",
    "      yLabel=\"F1-Score\",\n",
    "      xLabel=\"Training Set Source\",\n",
    "      legend=[\"Bing Test Set\", \"DuckDuckGo Test Set\", \"Google Test Set\"],\n",
    "      xTicks=list(['Bing', 'DuckDuckGo', 'Google']),\n",
    "      showGrid=True,\n",
    "      gridAxis=\"y\",\n",
    "      style=\"bar\",\n",
    "      saveTitle=\"ResNetAll\",\n",
    "      yLim= [0.90,1],\n",
    "      title=\"ResNet\"\n",
    "      \n",
    ")"
   ]
  },
  {
   "cell_type": "code",
   "execution_count": null,
   "metadata": {},
   "outputs": [],
   "source": [
    "modelOffset = 4\n",
    "\n",
    "bingTestSet =   [allResultDF.at[modelOffset,\"Bing\"]  ,allResultDF.at[12 + modelOffset,\"Bing\"]  ,allResultDF.at[24 + modelOffset,\"Bing\"]]\n",
    "ddgTestSet =    [allResultDF.at[modelOffset,\"DDG\"]   ,allResultDF.at[12 + modelOffset,\"DDG\"]   ,allResultDF.at[24 + modelOffset,\"DDG\"]]\n",
    "googleTestSet = [allResultDF.at[modelOffset,\"Google\"],allResultDF.at[12 + modelOffset,\"Google\"],allResultDF.at[24 + modelOffset,\"Google\"]]\n",
    "\n",
    "plotter.plotResults(\n",
    "      x=np.arange(3),\n",
    "      yArr=[list(bingTestSet), list(ddgTestSet), list(ddgTestSet)],\n",
    "      yLabel=\"F1-Score\",\n",
    "      xLabel=\"Training Set Source\",\n",
    "      legend=[\"Bing Test Set\", \"DuckDuckGo Test Set\", \"Google Test Set\"],\n",
    "      xTicks=list(['Bing', 'DuckDuckGo', 'Google']),\n",
    "      showGrid=True,\n",
    "      gridAxis=\"y\",\n",
    "      style=\"bar\",\n",
    "      saveTitle=\"AlexNetAll\",\n",
    "      yLim= [0.90,1],\n",
    "      title=\"AlexNet\"\n",
    ")\n"
   ]
  },
  {
   "cell_type": "code",
   "execution_count": null,
   "metadata": {},
   "outputs": [],
   "source": [
    "modelOffset = 8\n",
    "\n",
    "bingTestSet =   [allResultDF.at[modelOffset,\"Bing\"]  ,allResultDF.at[12 + modelOffset,\"Bing\"]  ,allResultDF.at[24 + modelOffset,\"Bing\"]]\n",
    "ddgTestSet =    [allResultDF.at[modelOffset,\"DDG\"]   ,allResultDF.at[12 + modelOffset,\"DDG\"]   ,allResultDF.at[24 + modelOffset,\"DDG\"]]\n",
    "googleTestSet = [allResultDF.at[modelOffset,\"Google\"],allResultDF.at[12 + modelOffset,\"Google\"],allResultDF.at[24 + modelOffset,\"Google\"]]\n",
    "\n",
    "plotter.plotResults(\n",
    "      x=np.arange(3),\n",
    "      yArr=[list(bingTestSet), list(ddgTestSet), list(ddgTestSet)],\n",
    "      yLabel=\"F1-Score\",\n",
    "      xLabel=\"Training Set Source\",\n",
    "      legend=[\"Bing Test Set\", \"DuckDuckGo Test Set\", \"Google Test Set\"],\n",
    "      xTicks=list(['Bing', 'DuckDuckGo', 'Google']),\n",
    "      showGrid=True,\n",
    "      gridAxis=\"y\",\n",
    "      style=\"bar\",\n",
    "      saveTitle=\"vggAll\",\n",
    "      yLim= [0.90,1],\n",
    "      title=\"VGG\"\n",
    ")"
   ]
  },
  {
   "cell_type": "markdown",
   "metadata": {},
   "source": [
    "## Evaluations"
   ]
  },
  {
   "cell_type": "code",
   "execution_count": null,
   "metadata": {},
   "outputs": [],
   "source": [
    "modelsEvaluationsDF = pd.read_csv(\n",
    "    \"../results/modelsEvaluations.csv\", sep=\",\", index_col=0)\n",
    "modelsEvaluationsDF = modelsEvaluationsDF.dropna(subset=[\"isMath\"])\n",
    "modelsEvaluationsDF[\"asr\"] = modelsEvaluationsDF.apply(\n",
    "    lambda row: 1 - row[\"acc\"], axis=1)\n",
    "\n",
    "modelsEvaluationsDF = modelsEvaluationsDF[modelsEvaluationsDF[\"attack\"] != \"Sharpen\"]"
   ]
  },
  {
   "cell_type": "code",
   "execution_count": null,
   "metadata": {},
   "outputs": [],
   "source": [
    "modelsEvaluationsDF"
   ]
  },
  {
   "cell_type": "markdown",
   "metadata": {},
   "source": [
    "### RQ1"
   ]
  },
  {
   "cell_type": "code",
   "execution_count": null,
   "metadata": {},
   "outputs": [],
   "source": [
    "for dataset in [\"google\", \"ddg\", \"bing\"]:\n",
    "    datasetDF = modelsEvaluationsDF[modelsEvaluationsDF[\"dataset\"] == dataset]\n",
    "    mathMeanDF = datasetDF.groupby([\"isMath\", \"modelDataset\"]).mean()\n",
    "\n",
    "    plotter.plotResults(\n",
    "        figSize=(10, 8),\n",
    "        x=np.arange(3),\n",
    "        yArr=mathMeanDF.groupby(\"isMath\")[\"asr\"].apply(list),\n",
    "        yLabel=\"ASR\",\n",
    "        xLabel=\"Training Set Source\",\n",
    "        legend=[\"Non math attacks\", \"Math attacks\"],\n",
    "        xTicks=['Bing', 'DuckDuckGo', 'Google'],\n",
    "        showGrid=True,\n",
    "        gridAxis=\"y\",\n",
    "        style=\"bar\",\n",
    "        yLim=[0, 0.14],\n",
    "        saveTitle=\"rq1_\" + dataset,\n",
    "        title=datasetToName[dataset]\n",
    "    )"
   ]
  },
  {
   "cell_type": "markdown",
   "metadata": {},
   "source": [
    "RQ1 VARIANT"
   ]
  },
  {
   "cell_type": "code",
   "execution_count": null,
   "metadata": {},
   "outputs": [],
   "source": [
    "modelsEvaluationsDF[\"sameDataset\"] = modelsEvaluationsDF.apply(lambda row: row[\"dataset\"] == row[\"modelDataset\"],axis = 1)\n",
    "\n",
    "sameDatasetDF = modelsEvaluationsDF.groupby([\"sameDataset\",\"attack\"]).mean().sort_values([\"sameDataset\",\"attack\"],ascending=True)\n",
    "\n",
    "attacksValues = sameDatasetDF.groupby([\"sameDataset\"])[\"asr\"].apply(list)\n",
    "\n",
    "attacksNames = list(sameDatasetDF.groupby([\"attack\"]).mean().index)\n",
    "\n",
    "plotter.plotResults(\n",
    "    figSize=(16, 8),\n",
    "    x=np.arange(len(attacksNames)),\n",
    "    yArr=list(reversed(list(attacksValues))),\n",
    "    xLabel=\"Attacks\",\n",
    "    legend=[\"Same dataset\",\"Different Dataset\"],\n",
    "    xTicks=attacksNames,\n",
    "    xTicksRotation=90,\n",
    "    showGrid=True,\n",
    "    gridAxis=\"y\",\n",
    "    style=\"bar\",\n",
    "    saveTitle=\"RQ1_Variant\",\n",
    "    title=\"RQ1_Variant\"\n",
    ")"
   ]
  },
  {
   "cell_type": "code",
   "execution_count": null,
   "metadata": {},
   "outputs": [],
   "source": [
    "modelsEvaluationsDF"
   ]
  },
  {
   "cell_type": "markdown",
   "metadata": {},
   "source": [
    "### RQ2"
   ]
  },
  {
   "cell_type": "code",
   "execution_count": null,
   "metadata": {},
   "outputs": [],
   "source": [
    "for model in [\"resnet\", \"alexnet\", \"vgg\"]:\n",
    "    modelDF = modelsEvaluationsDF[modelsEvaluationsDF[\"model\"] == model]\n",
    "    modelGroupedDF = modelDF.groupby([\"balancing\"])[\"acc\"].apply(list)\n",
    "\n",
    "    plotter.plotResults(\n",
    "        figSize=(10, 8),\n",
    "        x=np.arange(4),\n",
    "        yArr=list(modelGroupedDF),\n",
    "        yLabel=\"F1-Score\",\n",
    "        xLabel=\"Balancing\",\n",
    "        xTicks=list(modelGroupedDF.index),\n",
    "        showGrid=True,\n",
    "        gridAxis=\"y\",\n",
    "        style=\"boxplot\",\n",
    "        saveTitle=\"rq2_\" + model,\n",
    "        title=modelToName[model]\n",
    "    )"
   ]
  },
  {
   "cell_type": "markdown",
   "metadata": {},
   "source": [
    "### RQ3"
   ]
  },
  {
   "cell_type": "code",
   "execution_count": null,
   "metadata": {},
   "outputs": [],
   "source": [
    "for isMath in [True]:\n",
    "    \n",
    "    datasetDF = modelsEvaluationsDF[modelsEvaluationsDF[\"isMath\"] == isMath]\n",
    "\n",
    "    alexnetDF = datasetDF[datasetDF[\"model\"] == \"alexnet\"]\n",
    "    alexnetMeanDF = alexnetDF.groupby([\"advModel\"]).mean()\n",
    "\n",
    "    resnetDF = datasetDF[datasetDF[\"model\"] == \"resnet\"]\n",
    "    resnetMeanDF = resnetDF.groupby([\"advModel\"]).mean()\n",
    "\n",
    "    vggDF = datasetDF[datasetDF[\"model\"] == \"vgg\"]\n",
    "    vggMeanDF =vggDF.groupby([\"advModel\"]).mean()\n",
    "\n",
    "    if isMath == True:\n",
    "        graph_title = \"Mathematical Attacks\"\n",
    "        file_title = \"math\"\n",
    "    else:\n",
    "        graph_title = \"Non Mathematical Attacks\"\n",
    "        file_title = \"nonmath\"\n",
    "\n",
    "    # alexnetDF = datasetDF[datasetDF[\"model\"] == True]\n",
    "    # mathMeanDF = mathDF.groupby([\"advModel\"]).mean()\n",
    "\n",
    "    # nonMathDF = datasetDF[datasetDF[\"isMath\"] == False]\n",
    "    # nonMathMeanDF = nonMathDF.groupby([\"modelDataset\"]).mean()\n",
    "\n",
    "    plotter.plotResults(\n",
    "        figSize=(10, 8),\n",
    "        x=np.arange(3),\n",
    "        yArr=[list(1 - alexnetMeanDF[\"acc\"]), list(1 - resnetMeanDF[\"acc\"]), list(1 - vggMeanDF[\"acc\"])],\n",
    "        yLabel=\"ASR\",\n",
    "        xLabel=\"Attack Model Source\",\n",
    "        legend=[\"AlexNet\", \"ResNet\", \"VGG\"],\n",
    "        xTicks=[\"AlexNet\", \"ResNet\", \"VGG\"],\n",
    "        showGrid=True,\n",
    "        gridAxis=\"y\",\n",
    "        style=\"bar\",\n",
    "        yLim=[0, 0.2],\n",
    "        saveTitle=\"rq3_\" + file_title,\n",
    "        title=graph_title\n",
    "    )"
   ]
  },
  {
   "cell_type": "code",
   "execution_count": null,
   "metadata": {},
   "outputs": [],
   "source": [
    "datasetDF = modelsEvaluationsDF[modelsEvaluationsDF[\"isMath\"] == False]\n",
    "\n",
    "alexnetDF = datasetDF[datasetDF[\"model\"] == \"alexnet\"]\n",
    "alexnetMeanDF = alexnetDF.groupby([\"model\"]).mean()\n",
    "\n",
    "resnetDF = datasetDF[datasetDF[\"model\"] == \"resnet\"]\n",
    "resnetMeanDF = resnetDF.groupby([\"model\"]).mean()\n",
    "\n",
    "vggDF = datasetDF[datasetDF[\"model\"] == \"vgg\"]\n",
    "vggMeanDF =vggDF.groupby([\"model\"]).mean()\n",
    "\n",
    "graph_title = \"Non Mathematical Attacks\"\n",
    "file_title = \"nonmath\"\n",
    "\n",
    "# alexnetDF = datasetDF[datasetDF[\"model\"] == True]\n",
    "# mathMeanDF = mathDF.groupby([\"advModel\"]).mean()\n",
    "\n",
    "# nonMathDF = datasetDF[datasetDF[\"isMath\"] == False]\n",
    "# nonMathMeanDF = nonMathDF.groupby([\"modelDataset\"]).mean()\n",
    "\n",
    "plotter.plotResults(\n",
    "    figSize=(10, 8),\n",
    "    x=np.arange(3),\n",
    "    yArr=[list(1 - alexnetMeanDF[\"acc\"]), list(1 - resnetMeanDF[\"acc\"]), list(1 - vggMeanDF[\"acc\"])],\n",
    "    yLabel=\"ASR\",\n",
    "    xLabel=\"Attack Model Source\",\n",
    "    legend=[\"AlexNet\", \"ResNet\", \"VGG\"],\n",
    "    xTicks=[\"AlexNet\", \"ResNet\", \"VGG\"],\n",
    "    showGrid=True,\n",
    "    gridAxis=\"y\",\n",
    "    style=\"bar\",\n",
    "    yLim=[0, 0.2],\n",
    "    saveTitle=\"rq3_\" + file_title,\n",
    "    title=graph_title\n",
    ")"
   ]
  },
  {
   "cell_type": "markdown",
   "metadata": {},
   "source": [
    "### RQ3 Variant"
   ]
  },
  {
   "cell_type": "code",
   "execution_count": null,
   "metadata": {},
   "outputs": [],
   "source": [
    "modelsEvaluationsDF[\"sameModel\"] = modelsEvaluationsDF.apply(lambda row: row[\"advModel\"] == row[\"model\"],axis = 1)\n",
    "\n",
    "mathDF = modelsEvaluationsDF[modelsEvaluationsDF[\"isMath\"] == True]\n",
    "\n",
    "sameModelDF = mathDF.groupby([\"sameModel\",\"attack\"]).mean().sort_values([\"sameModel\",\"attack\"],ascending=True)\n",
    "\n",
    "attacksValues = sameModelDF.groupby([\"sameModel\"])[\"asr\"].apply(list)\n",
    "\n",
    "attacksNames = list(sameModelDF.groupby([\"attack\"]).mean().index)\n",
    "\n",
    "plotter.plotResults(\n",
    "    figSize=(16, 8),\n",
    "    x=np.arange(len(attacksNames)),\n",
    "    yArr=list(reversed(list(attacksValues))),\n",
    "    xLabel=\"Attacks\",\n",
    "    legend=[\"Same Model\",\"Different Model\"],\n",
    "    xTicks=attacksNames,\n",
    "    xTicksRotation=90,\n",
    "    showGrid=True,\n",
    "    gridAxis=\"y\",\n",
    "    style=\"bar\",\n",
    "    saveTitle=\"RQ3_Variant\",\n",
    "    title=\"RQ3_Variant\"\n",
    ")"
   ]
  },
  {
   "cell_type": "markdown",
   "metadata": {},
   "source": [
    "### RQ4"
   ]
  },
  {
   "cell_type": "code",
   "execution_count": null,
   "metadata": {},
   "outputs": [],
   "source": [
    "modelsEvaluationsDF[\"sameDataset\"] = modelsEvaluationsDF.apply(lambda row: row[\"dataset\"] == row[\"modelDataset\"],axis = 1)\n",
    "\n",
    "sameDatasetDF = modelsEvaluationsDF.groupby([\"sameDataset\",\"model\"]).mean().sort_values([\"sameDataset\",\"model\"],ascending=True)\n",
    "\n",
    "modelsValues = sameDatasetDF.groupby([\"sameDataset\"])[\"asr\"].apply(list)\n",
    "\n",
    "modelsNames = list(sameDatasetDF.groupby([\"model\"]).mean().index)\n",
    "\n",
    "plotter.plotResults(\n",
    "    figSize=(12, 8),\n",
    "    x=np.arange(len(modelsNames)),\n",
    "    yArr=list(reversed(list(modelsValues))),\n",
    "    xLabel=\"Models\",\n",
    "    legend=[\"Same dataset\",\"Different Dataset\"],\n",
    "    xTicks=[modelToName[name] for name in modelsNames],\n",
    "    showGrid=True,\n",
    "    gridAxis=\"y\",\n",
    "    style=\"bar\",\n",
    "    yLim=[0,0.14],\n",
    "    saveTitle=\"RQ4\",\n",
    "    title=\"RQ4\"\n",
    ")"
   ]
  }
 ],
 "metadata": {
  "kernelspec": {
   "display_name": "Python 3",
   "language": "python",
   "name": "python3"
  },
  "language_info": {
   "codemirror_mode": {
    "name": "ipython",
    "version": 3
   },
   "file_extension": ".py",
   "mimetype": "text/x-python",
   "name": "python",
   "nbconvert_exporter": "python",
   "pygments_lexer": "ipython3",
   "version": "3.9.8"
  }
 },
 "nbformat": 4,
 "nbformat_minor": 2
}
