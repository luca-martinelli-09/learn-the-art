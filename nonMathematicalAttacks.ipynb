{
 "cells": [
  {
   "cell_type": "code",
   "execution_count": 14,
   "metadata": {},
   "outputs": [
    {
     "name": "stdout",
     "output_type": "stream",
     "text": [
      "PyTorch Version:  1.10.1\n",
      "Torchvision Version:  0.11.2\n",
      "Torchattacks 3.2.4\n"
     ]
    }
   ],
   "source": [
    "import os\n",
    "import torch\n",
    "import pandas as pd\n",
    "import torchvision\n",
    "from torchvision import transforms\n",
    "from torch.utils.data import DataLoader\n",
    "import numpy as np\n",
    "\n",
    "import torchattacks\n",
    "from torchattacks import PGD, FGSM\n",
    "\n",
    "print(\"PyTorch Version: \",torch.__version__)\n",
    "print(\"Torchvision Version: \",torchvision.__version__)\n",
    "print(\"Torchattacks\", torchattacks.__version__)"
   ]
  },
  {
   "cell_type": "code",
   "execution_count": 25,
   "metadata": {},
   "outputs": [],
   "source": [
    "IMG_TEST_PATH = r\"C:\\Users\\marco\\Desktop\\Università\\MAGISTRALE\\Secondo Anno\\Computer and Network Security\\Project_2\\PROJECT_REPO\\orco-gan\\datasets\\bing\\test\\cat\\cat_4048.jpg\"\n",
    "\n",
    "import PIL\n",
    "from PIL import ImageEnhance,ImageFilter,ImageChops,Image,ImageDraw"
   ]
  },
  {
   "cell_type": "code",
   "execution_count": 16,
   "metadata": {},
   "outputs": [],
   "source": [
    "def GaussianBlurAttack(image):\n",
    "    \n",
    "    # Applying the Gaussian Blur filter \n",
    "    atkImage = image.filter(ImageFilter.GaussianBlur(radius = 1.5))\n",
    "    return atkImage"
   ]
  },
  {
   "cell_type": "code",
   "execution_count": 17,
   "metadata": {},
   "outputs": [],
   "source": [
    "def BoxBlurAttack(image):\n",
    "    \n",
    "    atkImage = image.filter(ImageFilter.BoxBlur(radius = 1))\n",
    "    return atkImage"
   ]
  },
  {
   "cell_type": "code",
   "execution_count": 18,
   "metadata": {},
   "outputs": [],
   "source": [
    "def SharpenAttack(image):\n",
    "    \n",
    "    atkImage = image.filter(ImageFilter.SHARPEN)\n",
    "    return atkImage"
   ]
  },
  {
   "cell_type": "code",
   "execution_count": 19,
   "metadata": {},
   "outputs": [],
   "source": [
    "def InvertColorAttack(image):\n",
    "    \n",
    "    atkImage =  ImageChops.invert(image) \n",
    "    return atkImage"
   ]
  },
  {
   "cell_type": "code",
   "execution_count": 20,
   "metadata": {},
   "outputs": [],
   "source": [
    "def GreyScaleAttack(image):\n",
    "    \n",
    "    atkImage = image.convert('L')\n",
    "    return atkImage"
   ]
  },
  {
   "cell_type": "code",
   "execution_count": 29,
   "metadata": {},
   "outputs": [],
   "source": [
    "def SplitAndMergeRGBAttack(image):\n",
    "    \n",
    "    red, green, blue = image.split()\n",
    "    atkImage = Image.merge(\"RGB\", (green, red, blue))\n",
    "    return atkImage"
   ]
  },
  {
   "cell_type": "code",
   "execution_count": 62,
   "metadata": {},
   "outputs": [],
   "source": [
    "import random\n",
    "\n",
    "def DrawRandomBlackBoxAttack(image):\n",
    "    \n",
    "    size = 50\n",
    "    x = random.randint(0, 300-size)\n",
    "    y = random.randint(0, 300-size)\n",
    "   \n",
    "    img_draw = ImageDraw.Draw(image)\n",
    "    img_draw.rectangle([(x, y), (x+size, y+size)], outline='black', fill='black')\n",
    "    return image"
   ]
  },
  {
   "cell_type": "markdown",
   "metadata": {},
   "source": [
    "TEST"
   ]
  },
  {
   "cell_type": "code",
   "execution_count": 63,
   "metadata": {},
   "outputs": [],
   "source": [
    "image = PIL.Image.open(IMG_TEST_PATH).convert('RGB')\n",
    "\n",
    "atkImage = GaussianBlurAttack(image)\n",
    "#atkImage.show()\n",
    "\n",
    "atkImage = BoxBlurAttack(image)\n",
    "#atkImage.show()\n",
    "\n",
    "atkImage = SharpenAttack(image)\n",
    "#atkImage.show()\n",
    "\n",
    "atkImage = InvertColorAttack(image)\n",
    "#atkImage.show()\n",
    "\n",
    "atkImage = GreyScaleAttack(image)\n",
    "#atkImage.show()\n",
    "\n",
    "atkImage = SplitAndMergeRGBAttack(image)\n",
    "#atkImage.show()\n",
    "\n",
    "atkImage = DrawRandomBlackBoxAttack(image)\n",
    "atkImage.show()"
   ]
  }
 ],
 "metadata": {
  "interpreter": {
   "hash": "63fd5069d213b44bf678585dea6b12cceca9941eaf7f819626cde1f2670de90d"
  },
  "kernelspec": {
   "display_name": "Python 3.9.7 64-bit (system)",
   "language": "python",
   "name": "python3"
  },
  "language_info": {
   "codemirror_mode": {
    "name": "ipython",
    "version": 3
   },
   "file_extension": ".py",
   "mimetype": "text/x-python",
   "name": "python",
   "nbconvert_exporter": "python",
   "pygments_lexer": "ipython3",
   "version": "3.8.3"
  },
  "orig_nbformat": 4
 },
 "nbformat": 4,
 "nbformat_minor": 2
}
