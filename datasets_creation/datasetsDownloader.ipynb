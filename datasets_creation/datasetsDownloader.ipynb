{
 "cells": [
  {
   "cell_type": "markdown",
   "metadata": {},
   "source": [
    "# Datasets Downloader\n"
   ]
  },
  {
   "cell_type": "markdown",
   "metadata": {},
   "source": [
    "Download images from three different sources: Bing, DuckDuckGo, Google\n"
   ]
  },
  {
   "cell_type": "markdown",
   "metadata": {},
   "source": [
    "## Setup\n"
   ]
  },
  {
   "cell_type": "code",
   "execution_count": null,
   "metadata": {},
   "outputs": [],
   "source": [
    "import os"
   ]
  },
  {
   "cell_type": "code",
   "execution_count": null,
   "metadata": {},
   "outputs": [],
   "source": [
    "# Utils import\n",
    "\n",
    "import sys\n",
    "rootFolder = os.path.abspath(os.path.dirname(\n",
    "    os.path.dirname(os.path.abspath(__file__))))\n",
    "sys.path.append(rootFolder)\n",
    "\n",
    "from utils.tasks import *"
   ]
  },
  {
   "cell_type": "markdown",
   "metadata": {},
   "source": [
    "### Settings\n"
   ]
  },
  {
   "cell_type": "code",
   "execution_count": null,
   "metadata": {},
   "outputs": [],
   "source": [
    "datasetBaseFolder = \"../tmp/\" + currentTask\n",
    "datasets = [\"bing\", \"ddg\", \"google\"]\n",
    "\n",
    "bingFolder = os.path.join(datasetBaseFolder, \"bing\")\n",
    "ddgFolder = os.path.join(datasetBaseFolder, \"ddg\")\n",
    "googleFolder = os.path.join(datasetBaseFolder, \"google\")"
   ]
  },
  {
   "cell_type": "markdown",
   "metadata": {},
   "source": [
    "#### Cats and Dogs\n"
   ]
  },
  {
   "cell_type": "code",
   "execution_count": null,
   "metadata": {},
   "outputs": [],
   "source": [
    "if currentTask == CAT_DOG:\n",
    "    classes = [\"cat\", \"dog\"]\n",
    "\n",
    "    queries = [\n",
    "        [\"cat\", \"little cat\", \"small cat\", \"calico cat\", \"cute cat\", \"norwegian forest cat\", \"black cat\",\n",
    "            \"orange cat\", \"grey cat\", \"white cat\", \"fluffy cat\", \"siamese cat\", \"tabby cat\",\n",
    "            \"munchkin cat\", \"persian cat\", \"angora cat\", \"bengal cat\", \"chartreux cat\", \"savannah cat\", \"ragdoll cat\"],\n",
    "\n",
    "        [\"dog\", \"little dog\", \"small dog\", \"brown dog\", \"cute dog\",\n",
    "        \"big dog\", \"black dog\", \"boxer dog\", \"grey dog\", \"white dog\",\n",
    "        \"german shepherd dog\", \"golden retriever dog\", \"labrador dog\", \"samoyed dog\", \"siberian husky dog\",\n",
    "        \"chihuahua dog\", \"bulldog\", \"doberman dog\", \"pug dog\", \"rottweiler dog\"]\n",
    "    ]\n"
   ]
  },
  {
   "cell_type": "markdown",
   "metadata": {},
   "source": [
    "#### Men and Women\n"
   ]
  },
  {
   "cell_type": "code",
   "execution_count": null,
   "metadata": {},
   "outputs": [],
   "source": [
    "if currentTask == MAN_WOMAN:\n",
    "  classes = [\"man\", \"woman\"]\n",
    "\n",
    "  queries = [\n",
    "      [\"uomo\", \"man\", \"male\", \"blond man\", \"red hair man\", \"brunette man\", \"black hair man\", \"tall man\", \"short male\", \"asian man\",\n",
    "          \"caucasian man\", \"black man\", \"fat man\", \"thin man\", \"fit man\", \"italian man\", \"japanese man\", \"american man\", \"old man\", \"young man\"],\n",
    "\n",
    "      [\"donna\", \"woman\", \"female\", \"blond female\", \"red hair woman\", \"brunette woman\", \"black hair woman\", \"tall female\", \"short female\", \"asian woman\",\n",
    "      \"caucasian woman\", \"black woman\", \"fat woman\", \"thin woman\", \"fit woman\", \"italian woman\", \"japanese woman\", \"american woman\", \"old woman\", \"young woman\"]\n",
    "  ]"
   ]
  },
  {
   "cell_type": "markdown",
   "metadata": {},
   "source": [
    "#### Bike and Motorbikes"
   ]
  },
  {
   "cell_type": "code",
   "execution_count": null,
   "metadata": {},
   "outputs": [],
   "source": [
    "if currentTask == BIKE_MOTORBIKE:\n",
    "    classes = [\"bike\", \"motorbike\"]\n",
    "\n",
    "    queries = [\n",
    "        [\"bicicletta\", \"bike\", \"city bike\", \"electric bike\", \"bianchi bike\", \"pinarello bike\", \"giant bike\", \"trek bike\", \"specialized bike\", \"cannodale bike\", \"scott bike\",\n",
    "            \"kona bike\", \"black bike\", \"white bike\", \"red motorbike\", \"mountain bike\", \"graziella bike\", \"blue bike\", \"bmx bike\", \"green bike\", \"bici con cestino\"],\n",
    "\n",
    "        [\"moto\", \"motorbike\", \"yamaha motorbike\", \"aprilia motorbike\", \"bmw motorbike\", \"benelli motorbike\", \"beta motorbike\", \"ducati motorbike\", \"harlet davidson motorbike\", \"honda motorbike\",\n",
    "        \"black motorbike\", \"white motorbike\", \"red motorbike\", \"motocross\", \"copper motorbike\", \"old motorbike\", \"blue motorbike\", \"green motorbike\", \"yellow motorbike\", \"orange motorbike\"]\n",
    "    ]"
   ]
  },
  {
   "cell_type": "markdown",
   "metadata": {},
   "source": [
    "### Create temporary folders where download images\n"
   ]
  },
  {
   "cell_type": "code",
   "execution_count": null,
   "metadata": {},
   "outputs": [],
   "source": [
    "for dataset in datasets:\n",
    "    dataFolder = os.path.join(datasetBaseFolder, dataset)\n",
    "\n",
    "    for cls in classes:\n",
    "        clsFolder = os.path.join(dataFolder, cls)\n",
    "\n",
    "        if not os.path.exists(clsFolder):\n",
    "            print(\"[📂 CREATED FOLDER] {}\".format(clsFolder))\n",
    "            os.makedirs(clsFolder)\n"
   ]
  },
  {
   "cell_type": "markdown",
   "metadata": {},
   "source": [
    "## Downloader\n"
   ]
  },
  {
   "cell_type": "markdown",
   "metadata": {},
   "source": [
    "### Bing\n"
   ]
  },
  {
   "cell_type": "code",
   "execution_count": null,
   "metadata": {},
   "outputs": [],
   "source": [
    "from bbid import bing_downloader\n",
    "\n",
    "print(\"[💾 BING DOWNLOADER]\")\n",
    "\n",
    "for query, folder in zip(queries, classes):\n",
    "    print(\"\\n[🗃️ INFO] Downloading images for class {}\".format(folder))\n",
    "\n",
    "    classDir = os.path.join(bingFolder, folder)\n",
    "\n",
    "    for q in query:\n",
    "        print(\"[🔍 INFO] Downloading images for query {}\".format(q))\n",
    "\n",
    "        downloadDir = os.path.join(classDir, q)\n",
    "        bing_downloader(type(\"obj\", (object,), {\n",
    "            \"search_string\": q,\n",
    "            \"output\": downloadDir,\n",
    "            \"limit\": 400,\n",
    "            \"inline\": False,\n",
    "        }))\n"
   ]
  },
  {
   "cell_type": "markdown",
   "metadata": {},
   "source": [
    "### DuckDuckGo\n"
   ]
  },
  {
   "cell_type": "code",
   "execution_count": null,
   "metadata": {},
   "outputs": [],
   "source": [
    "import DuckDuckGoImages as ddg\n",
    "\n",
    "print(\"[💾 DDG DOWNLOADER]\")\n",
    "\n",
    "for query, folder in zip(queries, classes):\n",
    "    print(\"\\n[🗃️ INFO] Downloading images for class {}\".format(folder))\n",
    "\n",
    "    classDir = os.path.join(ddgFolder, folder)\n",
    "\n",
    "    for q in query:\n",
    "        print(\"[🔍 INFO] Downloading images for query {}\".format(q))\n",
    "\n",
    "        downloadDir = os.path.join(classDir, q)\n",
    "        if not os.path.exists(downloadDir):\n",
    "            os.makedirs(downloadDir)\n",
    "\n",
    "        ddg.download(q, folder=downloadDir, parallel=True, max_urls=400)\n"
   ]
  },
  {
   "cell_type": "markdown",
   "metadata": {},
   "source": [
    "### Google\n"
   ]
  },
  {
   "cell_type": "markdown",
   "metadata": {},
   "source": [
    "**Disclaimer** In order to use this tool for download images from Google, it is necessary to download the [chromedriver](https://chromedriver.chromium.org/downloads) and put it in the same folder specified below.\n"
   ]
  },
  {
   "cell_type": "code",
   "execution_count": null,
   "metadata": {},
   "outputs": [],
   "source": [
    "from simple_image_download import Downloader"
   ]
  },
  {
   "cell_type": "code",
   "execution_count": null,
   "metadata": {},
   "outputs": [],
   "source": [
    "print(\"[💾 GOOGLE DOWNLOADER]\")\n",
    "\n",
    "for query, folder in zip(queries, classes):\n",
    "    print(\"\\n[🗃️ INFO] Downloading images for class {}\".format(folder))\n",
    "\n",
    "    classDir = os.path.join(googleFolder, folder)\n",
    "\n",
    "    response = Downloader()\n",
    "    response.directory = classDir + os.sep\n",
    "\n",
    "    response.download(\",\".join(query), 400)"
   ]
  },
  {
   "cell_type": "markdown",
   "metadata": {},
   "source": [
    "## Duplicate removal for queries\n"
   ]
  },
  {
   "cell_type": "code",
   "execution_count": null,
   "metadata": {},
   "outputs": [],
   "source": [
    "from difPy import dif\n",
    "\n",
    "print(\"[🗑️ DUPLICATE REMOVAL]\")\n",
    "\n",
    "for dataset in datasets:\n",
    "    print(\"\\n\" + \"-\" * 15)\n",
    "    print(\"[🗃️ DATASET] {}\".format(dataset))\n",
    "    datasetFolder = os.path.join(datasetBaseFolder, dataset)\n",
    "\n",
    "    for query, folder in zip(queries, classes):\n",
    "        classDir = os.path.join(datasetFolder, folder)\n",
    "        print(\"[🔍 INFO] Removing duplicates in the dataset {}\".format(classDir))\n",
    "\n",
    "        for q in query:\n",
    "            print(\"[🔍 INFO] Removing duplicates for the query {}\".format(q))\n",
    "\n",
    "            queryDir = os.path.join(classDir, q)\n",
    "            search = dif(queryDir, similarity=\"normal\")\n",
    "\n",
    "            for imgKey in search.result:\n",
    "                print(\"[✔️ INFO] Found duplicates for the image {}\".format(imgKey))\n",
    "\n",
    "                duplicates = search.result[imgKey][\"duplicates\"]\n",
    "\n",
    "                for duplicate in duplicates:\n",
    "                    print(\"[🗑️ INFO] Deleted duplicate {}\".format(imgKey))\n",
    "                    if os.path.exists(duplicate):\n",
    "                        os.remove(duplicate)\n"
   ]
  }
 ],
 "metadata": {
  "interpreter": {
   "hash": "63fd5069d213b44bf678585dea6b12cceca9941eaf7f819626cde1f2670de90d"
  },
  "kernelspec": {
   "display_name": "Python 3.9.7 64-bit",
   "language": "python",
   "name": "python3"
  },
  "language_info": {
   "codemirror_mode": {
    "name": "ipython",
    "version": 3
   },
   "file_extension": ".py",
   "mimetype": "text/x-python",
   "name": "python",
   "nbconvert_exporter": "python",
   "pygments_lexer": "ipython3",
   "version": "3.9.7"
  },
  "orig_nbformat": 4
 },
 "nbformat": 4,
 "nbformat_minor": 2
}
