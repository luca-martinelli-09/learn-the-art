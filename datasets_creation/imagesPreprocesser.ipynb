{
 "cells": [
  {
   "cell_type": "markdown",
   "metadata": {},
   "source": [
    "# Preprocessing"
   ]
  },
  {
   "cell_type": "code",
   "execution_count": null,
   "metadata": {},
   "outputs": [],
   "source": [
    "from PIL import Image\n",
    "import os\n",
    "import shutil\n",
    "from difPy import dif"
   ]
  },
  {
   "cell_type": "markdown",
   "metadata": {},
   "source": [
    "## Settings"
   ]
  },
  {
   "cell_type": "code",
   "execution_count": null,
   "metadata": {},
   "outputs": [],
   "source": [
    "CAT_DOG = \"catDog\"\n",
    "MAN_WOMAN = \"manWoman\"\n",
    "BIKE_MOTORBIKE = \"bikeMotorbike\"\n",
    "\n",
    "datasetFolder = \"../tmp/\" + MAN_WOMAN\n",
    "resizeOutput = (300, 300)\n",
    "IMG_EXTENSIONS = ('.jpg', '.jpeg', '.png', '.ppm', '.bmp',\n",
    "                  '.pgm', '.tif', '.tiff', '.webp')\n",
    "\n",
    "finalDatasetFolder = \"../datasets\"\n",
    "folderOrganization = {\n",
    "    \"train\": 3500,\n",
    "    \"val\": 500,\n",
    "    \"test\": 1000\n",
    "}"
   ]
  },
  {
   "cell_type": "markdown",
   "metadata": {},
   "source": [
    "## Resizer"
   ]
  },
  {
   "cell_type": "code",
   "execution_count": null,
   "metadata": {},
   "outputs": [],
   "source": [
    "for root, _, fnames in sorted(os.walk(datasetFolder, followlinks=True)):\n",
    "    for fname in sorted(fnames):\n",
    "        path = os.path.join(root, fname)\n",
    "        fileName, extension = os.path.splitext(path)\n",
    "\n",
    "        if not extension.lower() in IMG_EXTENSIONS:\n",
    "            print(\"[🗑️ INVALID EXTENSION FOUND] {}\".format(path))\n",
    "            os.remove(path)\n",
    "        else:\n",
    "            try:\n",
    "                img = Image.open(path).convert(\"RGB\")\n",
    "                img = img.resize(resizeOutput, Image.ANTIALIAS)\n",
    "                \n",
    "                print(\"[💾 SAVING NEW FILE IN JPEG] {}\".format(path))\n",
    "                img.save(fileName + \".jpg\", \"JPEG\")\n",
    "                img.close()\n",
    "\n",
    "                if extension != \".jpg\":\n",
    "                    os.remove(path)\n",
    "            except:\n",
    "                print(\"[🗑️ INVALID FILE FOUND] {}\".format(path))\n",
    "                os.remove(path)\n"
   ]
  },
  {
   "cell_type": "markdown",
   "metadata": {},
   "source": [
    "## Folder organization"
   ]
  },
  {
   "cell_type": "code",
   "execution_count": null,
   "metadata": {},
   "outputs": [],
   "source": [
    "datasets = [x for x in os.listdir(datasetFolder) if os.path.isdir(os.path.join(datasetFolder, x))]"
   ]
  },
  {
   "cell_type": "markdown",
   "metadata": {},
   "source": [
    "### Create folders"
   ]
  },
  {
   "cell_type": "code",
   "execution_count": null,
   "metadata": {},
   "outputs": [],
   "source": [
    "for dataset in datasets:\n",
    "    dataFolder = os.path.join(finalDatasetFolder, dataset)\n",
    "    for folder in folderOrganization:\n",
    "        orgFolder = os.path.join(dataFolder, folder)\n",
    "        if not os.path.exists(orgFolder):\n",
    "            os.makedirs(orgFolder)"
   ]
  },
  {
   "cell_type": "markdown",
   "metadata": {},
   "source": [
    "### Extract files"
   ]
  },
  {
   "cell_type": "code",
   "execution_count": null,
   "metadata": {},
   "outputs": [],
   "source": [
    "print(\"[🛩️ EXTRACTING FILES FROM QUERIES FOLDERS]\")\n",
    "\n",
    "for dataset in datasets:\n",
    "    print(\"\\n\" + \"-\" * 15)\n",
    "    print(\"[🗃️ DATASET] {}\".format(dataset))\n",
    "    dataFolder = os.path.join(datasetFolder, dataset)\n",
    "\n",
    "    for cls in [x for x in os.listdir(dataFolder) if os.path.isdir(os.path.join(dataFolder, x))]:\n",
    "        print(\"\\n[🧮 CLASS] {}\".format(cls))\n",
    "        clsFolder = os.path.join(dataFolder, cls)\n",
    "\n",
    "        for query in [x for x in os.listdir(clsFolder) if os.path.isdir(os.path.join(clsFolder, x))]:\n",
    "            queryFolder = os.path.join(clsFolder, query)\n",
    "\n",
    "            for file in os.listdir(queryFolder):\n",
    "                path = os.path.join(queryFolder, file)\n",
    "                try:\n",
    "                    shutil.move(path, clsFolder)\n",
    "                except:\n",
    "                    os.remove(path)\n",
    "            \n",
    "            os.removedirs(queryFolder)"
   ]
  },
  {
   "cell_type": "markdown",
   "metadata": {},
   "source": [
    "### Duplicate removal"
   ]
  },
  {
   "cell_type": "code",
   "execution_count": null,
   "metadata": {},
   "outputs": [],
   "source": [
    "print(\"[🗑️ REMOVING DUPLICATES]\")\n",
    "\n",
    "for dataset in datasets:\n",
    "    print(\"\\n\" + \"-\" * 15)\n",
    "    print(\"[🗃️ DATASET] {}\".format(dataset))\n",
    "    dataFolder = os.path.join(datasetFolder, dataset)\n",
    "\n",
    "    for cls in os.listdir(dataFolder):\n",
    "        print(\"\\n[🧮 CLASS] {}\".format(cls))\n",
    "        clsFolder = os.path.join(dataFolder, cls)\n",
    "\n",
    "        print(\"[🔍 INFO] Removing duplicates in the dataset {}\".format(clsFolder))\n",
    "\n",
    "        search = dif(clsFolder, similarity=\"normal\")\n",
    "\n",
    "        for imgKey in search.result:\n",
    "            print(\"[✔️ INFO] Found duplicates for the image {}\".format(imgKey))\n",
    "\n",
    "            duplicates = search.result[imgKey][\"duplicates\"]\n",
    "\n",
    "            for duplicate in duplicates:\n",
    "                print(\"[🗑️ INFO] Deleted duplicate {}\".format(duplicate))\n",
    "                if os.path.exists(duplicate):\n",
    "                    os.remove(duplicate)"
   ]
  },
  {
   "cell_type": "markdown",
   "metadata": {},
   "source": [
    "### Move files in folders"
   ]
  },
  {
   "cell_type": "code",
   "execution_count": null,
   "metadata": {},
   "outputs": [],
   "source": [
    "print(\"[🛩️ CREATING FINAL DATASETS]\")\n",
    "\n",
    "for dataset in datasets:\n",
    "    dataFolder = os.path.join(datasetFolder, dataset)\n",
    "    finalDataFolder = os.path.join(finalDatasetFolder, dataset)\n",
    "\n",
    "    print(\"\\n\" + \"-\" * 15)\n",
    "    print(\"[🗃️ DATASET] {}\".format(dataset))\n",
    "\n",
    "    for folder in folderOrganization:\n",
    "        print(\"\\n[📂 FOLDER] {}\".format(folder))\n",
    "        folderFolder = os.path.join(finalDataFolder, folder)\n",
    "\n",
    "        for cls in os.listdir(dataFolder):\n",
    "            print(\"[🧮 CLASS] {}\".format(cls))\n",
    "            clsFolder = os.path.join(dataFolder, cls)\n",
    "            finalClsFolder = os.path.join(folderFolder, cls)\n",
    "            \n",
    "            if not os.path.exists(finalClsFolder):\n",
    "                os.makedirs(finalClsFolder)\n",
    "\n",
    "            files = [x for x in os.listdir(clsFolder)\n",
    "                        if os.path.isfile(os.path.join(clsFolder, x))]\n",
    "            filesToMove = files[:folderOrganization[folder]]\n",
    "\n",
    "            for fileToMove in filesToMove:\n",
    "                shutil.move(os.path.join(clsFolder, fileToMove), os.path.join(finalClsFolder, fileToMove))\n"
   ]
  }
 ],
 "metadata": {
  "interpreter": {
   "hash": "63fd5069d213b44bf678585dea6b12cceca9941eaf7f819626cde1f2670de90d"
  },
  "kernelspec": {
   "display_name": "Python 3.9.7 64-bit (system)",
   "language": "python",
   "name": "python3"
  },
  "language_info": {
   "codemirror_mode": {
    "name": "ipython",
    "version": 3
   },
   "file_extension": ".py",
   "mimetype": "text/x-python",
   "name": "python",
   "nbconvert_exporter": "python",
   "pygments_lexer": "ipython3",
   "version": "3.9.7"
  },
  "orig_nbformat": 4
 },
 "nbformat": 4,
 "nbformat_minor": 2
}
