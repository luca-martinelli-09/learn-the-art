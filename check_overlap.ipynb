{
 "cells": [
  {
   "cell_type": "markdown",
   "metadata": {},
   "source": [
    "# Checking the overlap between the datasets\n",
    "\n",
    "What can happen is that the datasets created have some overlap in the various sets, i.e. the images used for training in one dataset can be present in the test set of another dataset. This can affect performances of the model, and therefore we want to be able to quantify this overlap."
   ]
  },
  {
   "cell_type": "markdown",
   "metadata": {},
   "source": [
    "### Importing Libraries"
   ]
  },
  {
   "cell_type": "code",
   "execution_count": 2,
   "metadata": {},
   "outputs": [],
   "source": [
    "from difPy import dif\n",
    "import os"
   ]
  },
  {
   "cell_type": "markdown",
   "metadata": {},
   "source": [
    "### Setting up the folder structure used\n",
    "\n",
    "In this repo the dataset is structured in such a way that inside the datasets folder we have three subfolders for every source used (Bing, DuckDuckGo and Google) and inside each of them we can find the folders of training, validation and test set containing the post-processed images."
   ]
  },
  {
   "cell_type": "code",
   "execution_count": 4,
   "metadata": {},
   "outputs": [
    {
     "name": "stdout",
     "output_type": "stream",
     "text": [
      "c:\\Users\\franc\\Documents\\GitHub\\orco-gan\\bing\n"
     ]
    }
   ],
   "source": [
    "cwd = os.getcwd()\n",
    "\n",
    "classes = [\"cat\", \"dog\"]\n",
    "datasets = [\"bing\", \"ddg\", \"google\"]\n",
    "sets = [\"test\", \"train\", \"val\"]\n",
    "\n",
    "bingFolder = os.path.join(cwd, \"bing\")\n",
    "ddgFolder = os.path.join(cwd, \"ddg\")\n",
    "googleFolder = os.path.join(cwd, \"google\")"
   ]
  }
 ],
 "metadata": {
  "interpreter": {
   "hash": "a0a60334b6dea779d5814b8ff25532a7426d95956c8adf8de045747e9463d1f1"
  },
  "kernelspec": {
   "display_name": "Python 3.8.8 64-bit ('tf-gpu': conda)",
   "language": "python",
   "name": "python3"
  },
  "language_info": {
   "codemirror_mode": {
    "name": "ipython",
    "version": 3
   },
   "file_extension": ".py",
   "mimetype": "text/x-python",
   "name": "python",
   "nbconvert_exporter": "python",
   "pygments_lexer": "ipython3",
   "version": "3.8.8"
  },
  "orig_nbformat": 4
 },
 "nbformat": 4,
 "nbformat_minor": 2
}
