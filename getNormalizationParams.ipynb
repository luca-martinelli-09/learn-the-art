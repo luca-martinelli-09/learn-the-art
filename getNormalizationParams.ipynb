{
 "cells": [
  {
   "cell_type": "markdown",
   "metadata": {},
   "source": [
    "# Get mean and standard deviation for normalization"
   ]
  },
  {
   "cell_type": "code",
   "execution_count": null,
   "metadata": {},
   "outputs": [],
   "source": [
    "import torch\n",
    "import numpy as np\n",
    "import torchvision\n",
    "from torchvision import datasets, transforms\n",
    "import os\n",
    "\n",
    "print(\"PyTorch Version:\", torch.__version__)\n",
    "print(\"Torchvision Version:\", torchvision.__version__)\n"
   ]
  },
  {
   "cell_type": "code",
   "execution_count": null,
   "metadata": {},
   "outputs": [],
   "source": [
    "# Detect if we have a GPU available\n",
    "print(\"CUDA available:\", torch.cuda.is_available())\n",
    "device = torch.device(\"cuda:0\" if torch.cuda.is_available() else \"cpu\")\n"
   ]
  },
  {
   "cell_type": "markdown",
   "metadata": {},
   "source": [
    "## Settings"
   ]
  },
  {
   "cell_type": "code",
   "execution_count": null,
   "metadata": {},
   "outputs": [],
   "source": [
    "baseDir = \"./datasets\""
   ]
  },
  {
   "cell_type": "code",
   "execution_count": null,
   "metadata": {},
   "outputs": [],
   "source": [
    "def getMeanAndSDT(dataloader):\n",
    "    channels_sum, channels_squared_sum, num_batches = 0, 0, 0\n",
    "    for data, _ in dataloader:\n",
    "        # Mean over batch, height and width, but not over the channels\n",
    "        channels_sum += torch.mean(data, dim=[0, 2, 3])\n",
    "        channels_squared_sum += torch.mean(data**2, dim=[0, 2, 3])\n",
    "        num_batches += 1\n",
    "\n",
    "    mean = channels_sum / num_batches\n",
    "\n",
    "    # std = sqrt(E[X^2] - (E[X])^2)\n",
    "    std = (channels_squared_sum / num_batches - mean ** 2) ** 0.5\n",
    "\n",
    "    return mean, std"
   ]
  },
  {
   "cell_type": "markdown",
   "metadata": {},
   "source": [
    "## Load Dataset and get mean and sdt"
   ]
  },
  {
   "cell_type": "code",
   "execution_count": null,
   "metadata": {},
   "outputs": [],
   "source": [
    "print(\"[🧮 CALCULATE MEAN AND SDT]\")\n",
    "\n",
    "for dataset in [x for x in os.listdir(baseDir) if os.path.isdir(os.path.join(baseDir, x))]:\n",
    "    print(\"\\n\\n[🗃️ DATASET] {}\".format(dataset))\n",
    "    \n",
    "    datasetDir = os.path.join(baseDir, dataset)\n",
    "\n",
    "    for subdataset in [x for x in os.listdir(datasetDir) if os.path.isdir(os.path.join(datasetDir, x))]:\n",
    "        print(\"\\n[📂 FOLDER] {}\".format(subdataset))\n",
    "        \n",
    "        subDatasetDir = os.path.join(datasetDir, subdataset)\n",
    "        \n",
    "        imageDataset = datasets.ImageFolder(subDatasetDir, transform=transforms.Compose([transforms.ToTensor()]))\n",
    "\n",
    "        for cls in imageDataset.classes:\n",
    "            clsIndex = imageDataset.class_to_idx[cls]\n",
    "            numElements = np.count_nonzero(\n",
    "                np.array(imageDataset.targets) == clsIndex)\n",
    "            print(\"[🧮 # ELEMENTS] {}: {}\".format(cls.upper(), numElements))\n",
    "\n",
    "        dataLoader = torch.utils.data.DataLoader(imageDataset, batch_size=128)\n",
    "\n",
    "        mean, std = getMeanAndSDT(dataLoader)\n",
    "        print(\"[✔️ INFO] Mean: {}\\n[✔️ INFO] Std: {}\".format(mean, std))\n"
   ]
  }
 ],
 "metadata": {
  "interpreter": {
   "hash": "63fd5069d213b44bf678585dea6b12cceca9941eaf7f819626cde1f2670de90d"
  },
  "kernelspec": {
   "display_name": "Python 3.9.7 64-bit (system)",
   "language": "python",
   "name": "python3"
  },
  "language_info": {
   "codemirror_mode": {
    "name": "ipython",
    "version": 3
   },
   "file_extension": ".py",
   "mimetype": "text/x-python",
   "name": "python",
   "nbconvert_exporter": "python",
   "pygments_lexer": "ipython3",
   "version": "3.9.7"
  },
  "orig_nbformat": 4
 },
 "nbformat": 4,
 "nbformat_minor": 2
}
