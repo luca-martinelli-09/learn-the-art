{
 "cells": [
  {
   "cell_type": "markdown",
   "metadata": {},
   "source": [
    "# Checking the overlap between the datasets\n",
    "\n",
    "What can happen is that the datasets created have some overlap in the various sets, i.e. the images used for training in one dataset can be present in the test set of another dataset. This can affect performances of the model, and therefore we want to be able to quantify this overlap."
   ]
  },
  {
   "cell_type": "markdown",
   "metadata": {},
   "source": [
    "### Importing Libraries"
   ]
  },
  {
   "cell_type": "code",
   "execution_count": null,
   "metadata": {},
   "outputs": [],
   "source": [
    "from difPy import dif\n",
    "import os"
   ]
  },
  {
   "cell_type": "markdown",
   "metadata": {},
   "source": [
    "### Setting up the folder structure used\n",
    "\n",
    "In this repo the dataset is structured in such a way that inside the datasets folder we have three subfolders for every source used (Bing, DuckDuckGo and Google) and inside each of them we can find the folders of training, validation and test set containing the post-processed images."
   ]
  },
  {
   "cell_type": "code",
   "execution_count": null,
   "metadata": {},
   "outputs": [],
   "source": [
    "from utils.tasks import currentTask\n",
    "\n",
    "cwd = os.getcwd()\n",
    "cwd = os.path.join(cwd, \"datasets\")\n",
    "cwd = os.path.join(cwd, currentTask)\n",
    "\n",
    "classes = [\"cat\", \"dog\"]\n",
    "datasets = [\"bing\", \"ddg\", \"google\"]\n",
    "sets = [\"test\", \"train\", \"val\"]\n",
    "\n",
    "bingFolder = os.path.join(cwd, \"bing\")\n",
    "ddgFolder = os.path.join(cwd, \"ddg\")\n",
    "googleFolder = os.path.join(cwd, \"google\")"
   ]
  },
  {
   "cell_type": "code",
   "execution_count": null,
   "metadata": {},
   "outputs": [],
   "source": [
    "# Defining folders\n",
    "\n",
    "all_folders = []\n",
    "\n",
    "bing_test = os.path.join(bingFolder, \"test\")\n",
    "all_folders.append(bing_test)\n",
    "bing_train = os.path.join(bingFolder, \"train\")\n",
    "all_folders.append(bing_train)\n",
    "bing_val = os.path.join(bingFolder, \"val\")\n",
    "all_folders.append(bing_val)\n",
    "\n",
    "ddg_test = os.path.join(ddgFolder, \"test\")\n",
    "all_folders.append(ddg_test)\n",
    "ddg_train = os.path.join(ddgFolder, \"train\")\n",
    "all_folders.append(ddg_train)\n",
    "ddg_val = os.path.join(ddgFolder, \"val\")\n",
    "all_folders.append(ddg_val)\n",
    "\n",
    "google_test = os.path.join(googleFolder, \"test\")\n",
    "all_folders.append(google_test)\n",
    "google_train = os.path.join(googleFolder, \"train\")\n",
    "all_folders.append(google_train)\n",
    "google_val = os.path.join(googleFolder, \"val\")\n",
    "all_folders.append(google_val)"
   ]
  },
  {
   "cell_type": "code",
   "execution_count": null,
   "metadata": {},
   "outputs": [],
   "source": [
    "# Defining for dog and cat\n",
    "\n",
    "cat_folders = []\n",
    "\n",
    "cat_bing_test = os.path.join(bing_test, \"cat\")\n",
    "cat_folders.append(cat_bing_test)\n",
    "cat_bing_train = os.path.join(bing_train, \"cat\")\n",
    "cat_folders.append(cat_bing_train)\n",
    "cat_bing_val = os.path.join(bing_val, \"cat\")\n",
    "cat_folders.append(cat_bing_val)\n",
    "\n",
    "cat_ddg_test = os.path.join(ddg_test, \"cat\")\n",
    "cat_folders.append(cat_ddg_test)\n",
    "cat_ddg_train = os.path.join(ddg_train, \"cat\")\n",
    "cat_folders.append(cat_ddg_train)\n",
    "cat_ddg_val = os.path.join(ddg_val, \"cat\")\n",
    "cat_folders.append(cat_ddg_val)\n",
    "\n",
    "cat_google_test = os.path.join(google_test, \"cat\")\n",
    "cat_folders.append(cat_google_test)\n",
    "cat_google_train = os.path.join(google_train, \"cat\")\n",
    "cat_folders.append(cat_google_train)\n",
    "cat_google_val = os.path.join(google_val, \"cat\")\n",
    "cat_folders.append(cat_google_val)\n",
    "\n",
    "bing_cat = cat_folders[0:3]\n",
    "ddg_cat = cat_folders[3:6]\n",
    "google_cat = cat_folders[6:9]\n",
    "\n",
    "all_cat = [bing_cat, ddg_cat, google_cat]\n",
    "\n",
    "dog_folders = []\n",
    "\n",
    "dog_bing_test = os.path.join(bing_test, \"dog\")\n",
    "dog_folders.append(dog_bing_test)\n",
    "dog_bing_train = os.path.join(bing_train, \"dog\")\n",
    "dog_folders.append(dog_bing_train)\n",
    "dog_bing_val = os.path.join(bing_val, \"dog\")\n",
    "dog_folders.append(dog_bing_val)\n",
    "\n",
    "dog_ddg_test = os.path.join(ddg_test, \"dog\")\n",
    "dog_folders.append(dog_ddg_test)\n",
    "dog_ddg_train = os.path.join(ddg_train, \"dog\")\n",
    "dog_folders.append(dog_ddg_train)\n",
    "dog_ddg_val = os.path.join(ddg_val, \"dog\")\n",
    "dog_folders.append(dog_ddg_val)\n",
    "\n",
    "dog_google_test = os.path.join(google_test, \"dog\")\n",
    "dog_folders.append(dog_google_test)\n",
    "dog_google_train = os.path.join(google_train, \"dog\")\n",
    "dog_folders.append(dog_google_train)\n",
    "dog_google_val = os.path.join(google_val, \"dog\")\n",
    "dog_folders.append(dog_google_val)\n",
    "\n",
    "bing_dog = dog_folders[0:3]\n",
    "ddg_dog = dog_folders[3:6]\n",
    "google_dog = dog_folders[6:9]\n",
    "\n",
    "all_dog = [bing_dog, ddg_dog, google_dog]"
   ]
  },
  {
   "cell_type": "markdown",
   "metadata": {},
   "source": [
    "## Check iteratively every folder\n",
    "\n",
    "WARNING! Computationally demanding action ahead, handle with care. In order to speed up the computation, we neglected the check on folders coming from the same datasets (e.g. we don't check between 'cat_bing_val' and 'cat_bing_train' because we are supposing that this action has already been performed)."
   ]
  },
  {
   "cell_type": "code",
   "execution_count": null,
   "metadata": {},
   "outputs": [],
   "source": [
    "# Check for cats\n",
    "\n",
    "checked_cat = []    # List containing every pair checked\n",
    "results_cat = []\n",
    "\n",
    "for dataset1 in all_cat:\n",
    "    cat_tmp = all_cat.copy()\n",
    "    cat_tmp.remove(dataset1)\n",
    "\n",
    "    for folder1 in dataset1:\n",
    "        for dataset2 in cat_tmp:\n",
    "            for folder2 in dataset2:\n",
    "                check = folder2 + folder1\n",
    "                if check not in checked_cat:\n",
    "                    checked_cat.append(check)\n",
    "                    print(\"[👁️] Checking between:\", folder1, \"and\", folder2)\n",
    "                    search = dif(folder1, folder2, similarity=\"normal\", px_size=50, sort_output=False, show_output=False, delete=False)\n",
    "                    results_cat.append(search.result)"
   ]
  },
  {
   "cell_type": "code",
   "execution_count": null,
   "metadata": {},
   "outputs": [],
   "source": [
    "# Check for dogs\n",
    "\n",
    "checked_dog = []    # List containing every pair checked\n",
    "results_dog = []\n",
    "\n",
    "for dataset1 in all_dog:\n",
    "    dog_tmp = all_dog.copy()\n",
    "    dog_tmp.remove(dataset1)\n",
    "\n",
    "    for folder1 in dataset1:\n",
    "        for dataset2 in dog_tmp:\n",
    "            for folder2 in dataset2:\n",
    "                check = folder2 + folder1\n",
    "                if check not in checked_dog:\n",
    "                    checked_dog.append(check)\n",
    "                    print(\"[👁️] Checking between:\", folder1, \"and\", folder2)\n",
    "                    search = dif(folder1, folder2, similarity=\"normal\", px_size=50, sort_output=False, show_output=False, delete=False)\n",
    "                    results_dog.append(search.result)"
   ]
  }
 ],
 "metadata": {
  "interpreter": {
   "hash": "a0a60334b6dea779d5814b8ff25532a7426d95956c8adf8de045747e9463d1f1"
  },
  "kernelspec": {
   "display_name": "Python 3.8.8 64-bit ('tf-gpu': conda)",
   "language": "python",
   "name": "python3"
  },
  "language_info": {
   "codemirror_mode": {
    "name": "ipython",
    "version": 3
   },
   "file_extension": ".py",
   "mimetype": "text/x-python",
   "name": "python",
   "nbconvert_exporter": "python",
   "pygments_lexer": "ipython3",
   "version": "3.8.8"
  },
  "orig_nbformat": 4
 },
 "nbformat": 4,
 "nbformat_minor": 2
}
